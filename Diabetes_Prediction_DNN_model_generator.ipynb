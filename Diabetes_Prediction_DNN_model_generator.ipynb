{
  "nbformat": 4,
  "nbformat_minor": 0,
  "metadata": {
    "colab": {
      "provenance": []
    },
    "kernelspec": {
      "name": "python3",
      "display_name": "Python 3"
    },
    "language_info": {
      "name": "python"
    }
  },
  "cells": [
    {
      "cell_type": "code",
      "source": [
        "sheet_id = \"1KGICaTvObgaS4aFhk85vmrnnV0DT5lv9wkyvY-InzTE\"\n",
        "worksheet_name = \"Sheet1\""
      ],
      "metadata": {
        "id": "gqbGMon3GDaE"
      },
      "execution_count": null,
      "outputs": []
    },
    {
      "cell_type": "code",
      "source": [
        "!pip install --upgrade gspread"
      ],
      "metadata": {
        "colab": {
          "base_uri": "https://localhost:8080/"
        },
        "id": "R-b6rv4jGExp",
        "outputId": "e3ed1ea5-a970-442f-8b46-d42dc6e4c4ff"
      },
      "execution_count": null,
      "outputs": [
        {
          "output_type": "stream",
          "name": "stdout",
          "text": [
            "Requirement already satisfied: gspread in /usr/local/lib/python3.10/dist-packages (3.4.2)\n",
            "Collecting gspread\n",
            "  Downloading gspread-5.10.0-py3-none-any.whl (44 kB)\n",
            "\u001b[2K     \u001b[90m━━━━━━━━━━━━━━━━━━━━━━━━━━━━━━━━━━━━━━━━\u001b[0m \u001b[32m44.5/44.5 kB\u001b[0m \u001b[31m2.4 MB/s\u001b[0m eta \u001b[36m0:00:00\u001b[0m\n",
            "\u001b[?25hRequirement already satisfied: google-auth>=1.12.0 in /usr/local/lib/python3.10/dist-packages (from gspread) (2.17.3)\n",
            "Requirement already satisfied: google-auth-oauthlib>=0.4.1 in /usr/local/lib/python3.10/dist-packages (from gspread) (1.0.0)\n",
            "Requirement already satisfied: cachetools<6.0,>=2.0.0 in /usr/local/lib/python3.10/dist-packages (from google-auth>=1.12.0->gspread) (5.3.1)\n",
            "Requirement already satisfied: pyasn1-modules>=0.2.1 in /usr/local/lib/python3.10/dist-packages (from google-auth>=1.12.0->gspread) (0.3.0)\n",
            "Requirement already satisfied: six>=1.9.0 in /usr/local/lib/python3.10/dist-packages (from google-auth>=1.12.0->gspread) (1.16.0)\n",
            "Requirement already satisfied: rsa<5,>=3.1.4 in /usr/local/lib/python3.10/dist-packages (from google-auth>=1.12.0->gspread) (4.9)\n",
            "Requirement already satisfied: requests-oauthlib>=0.7.0 in /usr/local/lib/python3.10/dist-packages (from google-auth-oauthlib>=0.4.1->gspread) (1.3.1)\n",
            "Requirement already satisfied: pyasn1<0.6.0,>=0.4.6 in /usr/local/lib/python3.10/dist-packages (from pyasn1-modules>=0.2.1->google-auth>=1.12.0->gspread) (0.5.0)\n",
            "Requirement already satisfied: oauthlib>=3.0.0 in /usr/local/lib/python3.10/dist-packages (from requests-oauthlib>=0.7.0->google-auth-oauthlib>=0.4.1->gspread) (3.2.2)\n",
            "Requirement already satisfied: requests>=2.0.0 in /usr/local/lib/python3.10/dist-packages (from requests-oauthlib>=0.7.0->google-auth-oauthlib>=0.4.1->gspread) (2.31.0)\n",
            "Requirement already satisfied: charset-normalizer<4,>=2 in /usr/local/lib/python3.10/dist-packages (from requests>=2.0.0->requests-oauthlib>=0.7.0->google-auth-oauthlib>=0.4.1->gspread) (3.2.0)\n",
            "Requirement already satisfied: idna<4,>=2.5 in /usr/local/lib/python3.10/dist-packages (from requests>=2.0.0->requests-oauthlib>=0.7.0->google-auth-oauthlib>=0.4.1->gspread) (3.4)\n",
            "Requirement already satisfied: urllib3<3,>=1.21.1 in /usr/local/lib/python3.10/dist-packages (from requests>=2.0.0->requests-oauthlib>=0.7.0->google-auth-oauthlib>=0.4.1->gspread) (2.0.4)\n",
            "Requirement already satisfied: certifi>=2017.4.17 in /usr/local/lib/python3.10/dist-packages (from requests>=2.0.0->requests-oauthlib>=0.7.0->google-auth-oauthlib>=0.4.1->gspread) (2023.7.22)\n",
            "Installing collected packages: gspread\n",
            "  Attempting uninstall: gspread\n",
            "    Found existing installation: gspread 3.4.2\n",
            "    Uninstalling gspread-3.4.2:\n",
            "      Successfully uninstalled gspread-3.4.2\n",
            "Successfully installed gspread-5.10.0\n"
          ]
        }
      ]
    },
    {
      "cell_type": "code",
      "source": [
        "!pip install pandas"
      ],
      "metadata": {
        "colab": {
          "base_uri": "https://localhost:8080/"
        },
        "id": "g1tTabBEGFO5",
        "outputId": "fd2c0f05-1895-4194-bd03-8d2d61485fb3"
      },
      "execution_count": null,
      "outputs": [
        {
          "output_type": "stream",
          "name": "stdout",
          "text": [
            "Requirement already satisfied: pandas in /usr/local/lib/python3.10/dist-packages (1.5.3)\n",
            "Requirement already satisfied: python-dateutil>=2.8.1 in /usr/local/lib/python3.10/dist-packages (from pandas) (2.8.2)\n",
            "Requirement already satisfied: pytz>=2020.1 in /usr/local/lib/python3.10/dist-packages (from pandas) (2023.3)\n",
            "Requirement already satisfied: numpy>=1.21.0 in /usr/local/lib/python3.10/dist-packages (from pandas) (1.23.5)\n",
            "Requirement already satisfied: six>=1.5 in /usr/local/lib/python3.10/dist-packages (from python-dateutil>=2.8.1->pandas) (1.16.0)\n"
          ]
        }
      ]
    },
    {
      "cell_type": "code",
      "source": [
        "import pandas as pd"
      ],
      "metadata": {
        "id": "pQzCqUerGG2H"
      },
      "execution_count": null,
      "outputs": []
    },
    {
      "cell_type": "code",
      "source": [
        "from google.colab import drive\n",
        "drive.mount('/content/drive')"
      ],
      "metadata": {
        "colab": {
          "base_uri": "https://localhost:8080/"
        },
        "id": "IqmLEcjuseOo",
        "outputId": "1b86699a-57ab-4692-f050-5703043e82c4"
      },
      "execution_count": null,
      "outputs": [
        {
          "output_type": "stream",
          "name": "stdout",
          "text": [
            "Mounted at /content/drive\n"
          ]
        }
      ]
    },
    {
      "cell_type": "code",
      "source": [
        "from google.colab import auth"
      ],
      "metadata": {
        "id": "-vM1pUGQGKb1"
      },
      "execution_count": null,
      "outputs": []
    },
    {
      "cell_type": "code",
      "source": [
        "auth.authenticate_user()"
      ],
      "metadata": {
        "id": "B4j9X2hyGRpp"
      },
      "execution_count": null,
      "outputs": []
    },
    {
      "cell_type": "code",
      "source": [
        "import gspread"
      ],
      "metadata": {
        "id": "2P5hKXRzGSl_"
      },
      "execution_count": null,
      "outputs": []
    },
    {
      "cell_type": "code",
      "source": [
        "from google.auth import default"
      ],
      "metadata": {
        "id": "ocWoj1CtGUJK"
      },
      "execution_count": null,
      "outputs": []
    },
    {
      "cell_type": "code",
      "source": [
        "creds, _ = default()"
      ],
      "metadata": {
        "id": "w2gmnT3gGXOK"
      },
      "execution_count": null,
      "outputs": []
    },
    {
      "cell_type": "code",
      "source": [
        "gc = gspread.authorize(creds)"
      ],
      "metadata": {
        "id": "Bq6nG2WRGX39"
      },
      "execution_count": null,
      "outputs": []
    },
    {
      "cell_type": "code",
      "source": [
        "sh = gc.open_by_key(sheet_id)"
      ],
      "metadata": {
        "id": "k07TLPI1GZbZ"
      },
      "execution_count": null,
      "outputs": []
    },
    {
      "cell_type": "code",
      "source": [
        "sh.worksheets()"
      ],
      "metadata": {
        "colab": {
          "base_uri": "https://localhost:8080/"
        },
        "id": "m5tyUMDxGa80",
        "outputId": "d66babc8-0bc6-4b89-9d57-7c45b6a496da"
      },
      "execution_count": null,
      "outputs": [
        {
          "output_type": "execute_result",
          "data": {
            "text/plain": [
              "[<Worksheet 'Sheet1' id:0>]"
            ]
          },
          "metadata": {},
          "execution_count": 13
        }
      ]
    },
    {
      "cell_type": "code",
      "source": [
        "worksheet = sh.worksheet(worksheet_name)"
      ],
      "metadata": {
        "id": "yfc8AtvsGfa2"
      },
      "execution_count": null,
      "outputs": []
    },
    {
      "cell_type": "code",
      "source": [
        "worksheet.get_all_records()"
      ],
      "metadata": {
        "colab": {
          "base_uri": "https://localhost:8080/"
        },
        "id": "gwp0o2n-GiU4",
        "outputId": "4eae39bd-c1ec-4707-f1a3-60f7d2dd9d08"
      },
      "execution_count": null,
      "outputs": [
        {
          "output_type": "execute_result",
          "data": {
            "text/plain": [
              "[{'Model': 1,\n",
              "  'LR': 0.001,\n",
              "  'factor': 0.1,\n",
              "  'patience': 5,\n",
              "  'Validation accuracy': '90%',\n",
              "  'Diabetes Accuracy': '80%',\n",
              "  '': ''},\n",
              " {'Model': 2,\n",
              "  'LR': 0.0001,\n",
              "  'factor': 0.1,\n",
              "  'patience': 5,\n",
              "  'Validation accuracy': '88%',\n",
              "  'Diabetes Accuracy': '91%',\n",
              "  '': ''},\n",
              " {'Model': 3,\n",
              "  'LR': 0.0001,\n",
              "  'factor': 0.9,\n",
              "  'patience': 10,\n",
              "  'Validation accuracy': '87%',\n",
              "  'Diabetes Accuracy': '93%',\n",
              "  '': ''},\n",
              " {'Model': 4,\n",
              "  'LR': 1e-05,\n",
              "  'factor': 0.1,\n",
              "  'patience': 1,\n",
              "  'Validation accuracy': '94%',\n",
              "  'Diabetes Accuracy': '69%',\n",
              "  '': ''},\n",
              " {'Model': 5,\n",
              "  'LR': 0.002,\n",
              "  'factor': 0.5,\n",
              "  'patience': 5,\n",
              "  'Validation accuracy': '87%',\n",
              "  'Diabetes Accuracy': '92%',\n",
              "  '': ''},\n",
              " {'Model': 6,\n",
              "  'LR': 0.0001,\n",
              "  'factor': 0.1,\n",
              "  'patience': 1,\n",
              "  'Validation accuracy': '88.5%',\n",
              "  'Diabetes Accuracy': '89.0%',\n",
              "  '': ''},\n",
              " {'Model': 7,\n",
              "  'LR': 0.00603,\n",
              "  'factor': 0.1549132812,\n",
              "  'patience': 9,\n",
              "  'Validation accuracy': '86.0%',\n",
              "  'Diabetes Accuracy': '93.0%',\n",
              "  '': ''},\n",
              " {'Model': 8,\n",
              "  'LR': 0.00603,\n",
              "  'factor': 0.1549132812,\n",
              "  'patience': 5,\n",
              "  'Validation accuracy': '86.1%',\n",
              "  'Diabetes Accuracy': '91.8%',\n",
              "  '': ''},\n",
              " {'Model': 9,\n",
              "  'LR': 0.00603,\n",
              "  'factor': 0.1549132812,\n",
              "  'patience': 4,\n",
              "  'Validation accuracy': '89.1%',\n",
              "  'Diabetes Accuracy': '87.9%',\n",
              "  '': ''},\n",
              " {'Model': 10,\n",
              "  'LR': 0.00603,\n",
              "  'factor': 0.1549132812,\n",
              "  'patience': 2,\n",
              "  'Validation accuracy': '88.2%',\n",
              "  'Diabetes Accuracy': '83.4%',\n",
              "  '': ''},\n",
              " {'Model': 11,\n",
              "  'LR': 0.00946,\n",
              "  'factor': 0.1804648076,\n",
              "  'patience': 5,\n",
              "  'Validation accuracy': '86.2%',\n",
              "  'Diabetes Accuracy': '94.2%',\n",
              "  '': '//'},\n",
              " {'Model': 12,\n",
              "  'LR': 0.00946,\n",
              "  'factor': 0.1804648076,\n",
              "  'patience': 7,\n",
              "  'Validation accuracy': '88.7%',\n",
              "  'Diabetes Accuracy': '86.0%',\n",
              "  '': ''},\n",
              " {'Model': 13,\n",
              "  'LR': 0.00946,\n",
              "  'factor': 0.1804648076,\n",
              "  'patience': 1,\n",
              "  'Validation accuracy': '86.5%',\n",
              "  'Diabetes Accuracy': '92.8%',\n",
              "  '': ''},\n",
              " {'Model': 14,\n",
              "  'LR': 0.00946,\n",
              "  'factor': 0.1804648076,\n",
              "  'patience': 2,\n",
              "  'Validation accuracy': '89.0%',\n",
              "  'Diabetes Accuracy': '88.8%',\n",
              "  '': ''},\n",
              " {'Model': 15,\n",
              "  'LR': 0.00946,\n",
              "  'factor': 0.1804648076,\n",
              "  'patience': 2,\n",
              "  'Validation accuracy': '86.0%',\n",
              "  'Diabetes Accuracy': '92.5%',\n",
              "  '': ''},\n",
              " {'Model': 16,\n",
              "  'LR': 0.00966,\n",
              "  'factor': 0.06553934267,\n",
              "  'patience': 10,\n",
              "  'Validation accuracy': '89.2%',\n",
              "  'Diabetes Accuracy': '92.1%',\n",
              "  '': ''},\n",
              " {'Model': 17,\n",
              "  'LR': 0.00719,\n",
              "  'factor': 0.3839339897,\n",
              "  'patience': 7,\n",
              "  'Validation accuracy': '86.0%',\n",
              "  'Diabetes Accuracy': '92.8%',\n",
              "  '': ''},\n",
              " {'Model': 18,\n",
              "  'LR': 0.00183,\n",
              "  'factor': 0.3691086349,\n",
              "  'patience': 3,\n",
              "  'Validation accuracy': '87.2%',\n",
              "  'Diabetes Accuracy': '92.1%',\n",
              "  '': ''},\n",
              " {'Model': 19,\n",
              "  'LR': 0.00336,\n",
              "  'factor': 0.1962515614,\n",
              "  'patience': 7,\n",
              "  'Validation accuracy': '87.7%',\n",
              "  'Diabetes Accuracy': '91.6%',\n",
              "  '': ''},\n",
              " {'Model': 20,\n",
              "  'LR': 0.00896,\n",
              "  'factor': 0.2249731537,\n",
              "  'patience': 10,\n",
              "  'Validation accuracy': '88.7%',\n",
              "  'Diabetes Accuracy': '85.8%',\n",
              "  '': ''},\n",
              " {'Model': 21,\n",
              "  'LR': 0.00308,\n",
              "  'factor': 0.3929897712,\n",
              "  'patience': 2,\n",
              "  'Validation accuracy': '86.7%',\n",
              "  'Diabetes Accuracy': '91.1%',\n",
              "  '': ''},\n",
              " {'Model': 22,\n",
              "  'LR': 0.00345,\n",
              "  'factor': 0.2393173877,\n",
              "  'patience': 7,\n",
              "  'Validation accuracy': '88.2%',\n",
              "  'Diabetes Accuracy': '87.4%',\n",
              "  '': ''},\n",
              " {'Model': 23,\n",
              "  'LR': 0.00482,\n",
              "  'factor': 0.283308533,\n",
              "  'patience': 4,\n",
              "  'Validation accuracy': '88.1%',\n",
              "  'Diabetes Accuracy': '90.9%',\n",
              "  '': ''},\n",
              " {'Model': 24,\n",
              "  'LR': 0.00587,\n",
              "  'factor': 0.3749996692,\n",
              "  'patience': 4,\n",
              "  'Validation accuracy': '87.5%',\n",
              "  'Diabetes Accuracy': '92.8%',\n",
              "  '': ''},\n",
              " {'Model': 25,\n",
              "  'LR': 0.00832,\n",
              "  'factor': 0.1792491738,\n",
              "  'patience': 10,\n",
              "  'Validation accuracy': '90.7%',\n",
              "  'Diabetes Accuracy': '80.7%',\n",
              "  '': ''},\n",
              " {'Model': 26,\n",
              "  'LR': 0.00547,\n",
              "  'factor': 0.1502740905,\n",
              "  'patience': 3,\n",
              "  'Validation accuracy': '90.9%',\n",
              "  'Diabetes Accuracy': '81.6%',\n",
              "  '': ''},\n",
              " {'Model': 27,\n",
              "  'LR': 0.00407,\n",
              "  'factor': 0.08121439285,\n",
              "  'patience': 10,\n",
              "  'Validation accuracy': '88.1%',\n",
              "  'Diabetes Accuracy': '92.3%',\n",
              "  '': ''},\n",
              " {'Model': 28,\n",
              "  'LR': 0.00587,\n",
              "  'factor': 0.6224180126,\n",
              "  'patience': 9,\n",
              "  'Validation accuracy': '88.2%',\n",
              "  'Diabetes Accuracy': '90.2%',\n",
              "  '': ''},\n",
              " {'Model': 29,\n",
              "  'LR': 0.00361,\n",
              "  'factor': 0.7555037536,\n",
              "  'patience': 5,\n",
              "  'Validation accuracy': '89.3%',\n",
              "  'Diabetes Accuracy': '84.4%',\n",
              "  '': ''},\n",
              " {'Model': 30,\n",
              "  'LR': 0.00898,\n",
              "  'factor': 0.2012617376,\n",
              "  'patience': 9,\n",
              "  'Validation accuracy': '86.2%',\n",
              "  'Diabetes Accuracy': '92.8%',\n",
              "  '': ''},\n",
              " {'Model': 31,\n",
              "  'LR': 0.000908,\n",
              "  'factor': 0.7144373368,\n",
              "  'patience': 1,\n",
              "  'Validation accuracy': '87.2%',\n",
              "  'Diabetes Accuracy': '92.8%',\n",
              "  '': ''},\n",
              " {'Model': 32,\n",
              "  'LR': 0.00918,\n",
              "  'factor': 0.6873026065,\n",
              "  'patience': 7,\n",
              "  'Validation accuracy': '85.1%',\n",
              "  'Diabetes Accuracy': '89.7%',\n",
              "  '': ''},\n",
              " {'Model': 33,\n",
              "  'LR': 0.00546,\n",
              "  'factor': 0.7533006964,\n",
              "  'patience': 10,\n",
              "  'Validation accuracy': '88.6%',\n",
              "  'Diabetes Accuracy': '89.5%',\n",
              "  '': ''},\n",
              " {'Model': 34,\n",
              "  'LR': 0.000889,\n",
              "  'factor': 0.4266782007,\n",
              "  'patience': 2,\n",
              "  'Validation accuracy': '87.0%',\n",
              "  'Diabetes Accuracy': '91.8%',\n",
              "  '': ''},\n",
              " {'Model': 35,\n",
              "  'LR': 0.00149,\n",
              "  'factor': 0.3419358181,\n",
              "  'patience': 5,\n",
              "  'Validation accuracy': '89.6%',\n",
              "  'Diabetes Accuracy': '91.4%',\n",
              "  '': ''},\n",
              " {'Model': 36,\n",
              "  'LR': 0.00876,\n",
              "  'factor': 0.1943382408,\n",
              "  'patience': 6,\n",
              "  'Validation accuracy': '83.4%',\n",
              "  'Diabetes Accuracy': '94.2%',\n",
              "  '': '//'},\n",
              " {'Model': 37,\n",
              "  'LR': 0.00792,\n",
              "  'factor': 0.4014507835,\n",
              "  'patience': 9,\n",
              "  'Validation accuracy': '86.2%',\n",
              "  'Diabetes Accuracy': '87.6%',\n",
              "  '': ''},\n",
              " {'Model': 38,\n",
              "  'LR': 0.00802,\n",
              "  'factor': 0.7952272508,\n",
              "  'patience': 10,\n",
              "  'Validation accuracy': '85.0%',\n",
              "  'Diabetes Accuracy': '94.4%',\n",
              "  '': '//'},\n",
              " {'Model': 39,\n",
              "  'LR': 0.00989,\n",
              "  'factor': 0.7267989117,\n",
              "  'patience': 6,\n",
              "  'Validation accuracy': '89.6%',\n",
              "  'Diabetes Accuracy': '89.0%',\n",
              "  '': ''},\n",
              " {'Model': 40,\n",
              "  'LR': 0.00826,\n",
              "  'factor': 0.2517454041,\n",
              "  'patience': 4,\n",
              "  'Validation accuracy': '88.7%',\n",
              "  'Diabetes Accuracy': '87.4%',\n",
              "  '': ''},\n",
              " {'Model': 41,\n",
              "  'LR': 0.00134,\n",
              "  'factor': 0.4047341464,\n",
              "  'patience': 3,\n",
              "  'Validation accuracy': '87.4%',\n",
              "  'Diabetes Accuracy': '91.8%',\n",
              "  '': ''},\n",
              " {'Model': 42,\n",
              "  'LR': 0.00842,\n",
              "  'factor': 0.1535489531,\n",
              "  'patience': 10,\n",
              "  'Validation accuracy': '85.3%',\n",
              "  'Diabetes Accuracy': '94.6%',\n",
              "  '': ''},\n",
              " {'Model': 43,\n",
              "  'LR': 0.00498,\n",
              "  'factor': 0.06611883895,\n",
              "  'patience': 2,\n",
              "  'Validation accuracy': '89.7%',\n",
              "  'Diabetes Accuracy': '84.8%',\n",
              "  '': ''},\n",
              " {'Model': 44,\n",
              "  'LR': 0.00456,\n",
              "  'factor': 0.4632167937,\n",
              "  'patience': 7,\n",
              "  'Validation accuracy': '88.2%',\n",
              "  'Diabetes Accuracy': '90.2%',\n",
              "  '': ''},\n",
              " {'Model': 45,\n",
              "  'LR': 0.00802,\n",
              "  'factor': 0.8990607715,\n",
              "  'patience': 7,\n",
              "  'Validation accuracy': '86.7%',\n",
              "  'Diabetes Accuracy': '90.7%',\n",
              "  '': ''},\n",
              " {'Model': 46,\n",
              "  'LR': 0.00759,\n",
              "  'factor': 0.4369530479,\n",
              "  'patience': 8,\n",
              "  'Validation accuracy': '88.6%',\n",
              "  'Diabetes Accuracy': '90.9%',\n",
              "  '': ''},\n",
              " {'Model': 47,\n",
              "  'LR': 0.0097,\n",
              "  'factor': 0.1090231828,\n",
              "  'patience': 9,\n",
              "  'Validation accuracy': '90.8%',\n",
              "  'Diabetes Accuracy': '77.6%',\n",
              "  '': ''},\n",
              " {'Model': 48,\n",
              "  'LR': 0.00472,\n",
              "  'factor': 0.2653651518,\n",
              "  'patience': 10,\n",
              "  'Validation accuracy': '89.7%',\n",
              "  'Diabetes Accuracy': '89.7%',\n",
              "  '': ''},\n",
              " {'Model': 49,\n",
              "  'LR': 0.00387,\n",
              "  'factor': 0.2688708773,\n",
              "  'patience': 4,\n",
              "  'Validation accuracy': '88.3%',\n",
              "  'Diabetes Accuracy': '89.3%',\n",
              "  '': ''},\n",
              " {'Model': 50,\n",
              "  'LR': 0.00695,\n",
              "  'factor': 0.4775817067,\n",
              "  'patience': 6,\n",
              "  'Validation accuracy': '88.6%',\n",
              "  'Diabetes Accuracy': '85.5%',\n",
              "  '': ''},\n",
              " {'Model': 51,\n",
              "  'LR': 0.00509,\n",
              "  'factor': 0.3914915052,\n",
              "  'patience': 2,\n",
              "  'Validation accuracy': '87.3%',\n",
              "  'Diabetes Accuracy': '93.7%',\n",
              "  '': '//'},\n",
              " {'Model': 52,\n",
              "  'LR': 0.00276,\n",
              "  'factor': 0.4420115107,\n",
              "  'patience': 5,\n",
              "  'Validation accuracy': '87.3%',\n",
              "  'Diabetes Accuracy': '88.8%',\n",
              "  '': ''},\n",
              " {'Model': 53,\n",
              "  'LR': 0.00905,\n",
              "  'factor': 0.477328031,\n",
              "  'patience': 5,\n",
              "  'Validation accuracy': '88.1%',\n",
              "  'Diabetes Accuracy': '89.0%',\n",
              "  '': ''},\n",
              " {'Model': 54,\n",
              "  'LR': 0.00875,\n",
              "  'factor': 0.2678644542,\n",
              "  'patience': 7,\n",
              "  'Validation accuracy': '86.9%',\n",
              "  'Diabetes Accuracy': '93.0%',\n",
              "  '': ''},\n",
              " {'Model': 55,\n",
              "  'LR': 0.00365,\n",
              "  'factor': 0.8745565655,\n",
              "  'patience': 3,\n",
              "  'Validation accuracy': '87.7%',\n",
              "  'Diabetes Accuracy': '86.5%',\n",
              "  '': ''},\n",
              " {'Model': 56,\n",
              "  'LR': 0.0077,\n",
              "  'factor': 0.3030044045,\n",
              "  'patience': 4,\n",
              "  'Validation accuracy': '88.1%',\n",
              "  'Diabetes Accuracy': '90.0%',\n",
              "  '': ''},\n",
              " {'Model': 57,\n",
              "  'LR': 0.00274,\n",
              "  'factor': 0.6845074401,\n",
              "  'patience': 4,\n",
              "  'Validation accuracy': '85.7%',\n",
              "  'Diabetes Accuracy': '93.5%',\n",
              "  '': '//'},\n",
              " {'Model': 58,\n",
              "  'LR': 0.00304,\n",
              "  'factor': 0.5010195217,\n",
              "  'patience': 2,\n",
              "  'Validation accuracy': '87.7%',\n",
              "  'Diabetes Accuracy': '90.2%',\n",
              "  '': ''},\n",
              " {'Model': 59,\n",
              "  'LR': 0.00412,\n",
              "  'factor': 0.08479190375,\n",
              "  'patience': 2,\n",
              "  'Validation accuracy': '85.6%',\n",
              "  'Diabetes Accuracy': '94.2%',\n",
              "  '': '//'},\n",
              " {'Model': 60,\n",
              "  'LR': 0.00641,\n",
              "  'factor': 0.8648244631,\n",
              "  'patience': 2,\n",
              "  'Validation accuracy': '87.8%',\n",
              "  'Diabetes Accuracy': '90.0%',\n",
              "  '': ''},\n",
              " {'Model': 61,\n",
              "  'LR': 0.00667,\n",
              "  'factor': 0.6086377925,\n",
              "  'patience': 4,\n",
              "  'Validation accuracy': '87.7%',\n",
              "  'Diabetes Accuracy': '92.5%',\n",
              "  '': ''},\n",
              " {'Model': 62,\n",
              "  'LR': 0.00713,\n",
              "  'factor': 0.1250843932,\n",
              "  'patience': 2,\n",
              "  'Validation accuracy': '88.0%',\n",
              "  'Diabetes Accuracy': '87.9%',\n",
              "  '': ''},\n",
              " {'Model': 63,\n",
              "  'LR': 0.00592,\n",
              "  'factor': 0.5623883364,\n",
              "  'patience': 2,\n",
              "  'Validation accuracy': '88.6%',\n",
              "  'Diabetes Accuracy': '90.2%',\n",
              "  '': ''},\n",
              " {'Model': 64,\n",
              "  'LR': 0.00563,\n",
              "  'factor': 0.7225913179,\n",
              "  'patience': 4,\n",
              "  'Validation accuracy': '87.8%',\n",
              "  'Diabetes Accuracy': '88.1%',\n",
              "  '': ''},\n",
              " {'Model': 65,\n",
              "  'LR': 0.00711,\n",
              "  'factor': 0.6095673796,\n",
              "  'patience': 4,\n",
              "  'Validation accuracy': '89.9%',\n",
              "  'Diabetes Accuracy': '87.6%',\n",
              "  '': ''},\n",
              " {'Model': 66,\n",
              "  'LR': 0.00812,\n",
              "  'factor': 0.7305819387,\n",
              "  'patience': 9,\n",
              "  'Validation accuracy': '86.9%',\n",
              "  'Diabetes Accuracy': '90.7%',\n",
              "  '': ''},\n",
              " {'Model': 67,\n",
              "  'LR': 0.000516,\n",
              "  'factor': 0.3526113206,\n",
              "  'patience': 2,\n",
              "  'Validation accuracy': '88.2%',\n",
              "  'Diabetes Accuracy': '92.1%',\n",
              "  '': ''},\n",
              " {'Model': 68,\n",
              "  'LR': 0.00204,\n",
              "  'factor': 0.5987071242,\n",
              "  'patience': 8,\n",
              "  'Validation accuracy': '88.0%',\n",
              "  'Diabetes Accuracy': '90.7%',\n",
              "  '': ''},\n",
              " {'Model': 69,\n",
              "  'LR': 0.00734,\n",
              "  'factor': 0.1845774843,\n",
              "  'patience': 1,\n",
              "  'Validation accuracy': '86.7%',\n",
              "  'Diabetes Accuracy': '91.1%',\n",
              "  '': ''},\n",
              " {'Model': 70,\n",
              "  'LR': 0.005,\n",
              "  'factor': 0.6521547182,\n",
              "  'patience': 6,\n",
              "  'Validation accuracy': '90.3%',\n",
              "  'Diabetes Accuracy': '86.5%',\n",
              "  '': ''}]"
            ]
          },
          "metadata": {},
          "execution_count": 15
        }
      ]
    },
    {
      "cell_type": "code",
      "source": [
        "df = pd.DataFrame(worksheet.get_all_records())"
      ],
      "metadata": {
        "id": "B37ygfWYGjLJ"
      },
      "execution_count": null,
      "outputs": []
    },
    {
      "cell_type": "code",
      "source": [
        "df"
      ],
      "metadata": {
        "colab": {
          "base_uri": "https://localhost:8080/",
          "height": 206
        },
        "id": "iy6Q-3aPGlD3",
        "outputId": "89628f01-76dd-444a-d5dd-7c7c31bda257"
      },
      "execution_count": null,
      "outputs": [
        {
          "output_type": "execute_result",
          "data": {
            "text/plain": [
              "   Model       LR  factor  patience Validation accuracy Diabetes Accuracy\n",
              "0      1  0.00100     0.1         5                 90%               80%\n",
              "1      2  0.00010     0.1         5                 88%               91%\n",
              "2      3  0.00010     0.9        10                 87%               93%\n",
              "3      4  0.00001     0.1         1                 94%               69%\n",
              "4      5  0.00200     0.5         5                 87%               92%"
            ],
            "text/html": [
              "\n",
              "  <div id=\"df-b6c902b2-ad67-4e97-85a6-df502c6403f8\" class=\"colab-df-container\">\n",
              "    <div>\n",
              "<style scoped>\n",
              "    .dataframe tbody tr th:only-of-type {\n",
              "        vertical-align: middle;\n",
              "    }\n",
              "\n",
              "    .dataframe tbody tr th {\n",
              "        vertical-align: top;\n",
              "    }\n",
              "\n",
              "    .dataframe thead th {\n",
              "        text-align: right;\n",
              "    }\n",
              "</style>\n",
              "<table border=\"1\" class=\"dataframe\">\n",
              "  <thead>\n",
              "    <tr style=\"text-align: right;\">\n",
              "      <th></th>\n",
              "      <th>Model</th>\n",
              "      <th>LR</th>\n",
              "      <th>factor</th>\n",
              "      <th>patience</th>\n",
              "      <th>Validation accuracy</th>\n",
              "      <th>Diabetes Accuracy</th>\n",
              "    </tr>\n",
              "  </thead>\n",
              "  <tbody>\n",
              "    <tr>\n",
              "      <th>0</th>\n",
              "      <td>1</td>\n",
              "      <td>0.00100</td>\n",
              "      <td>0.1</td>\n",
              "      <td>5</td>\n",
              "      <td>90%</td>\n",
              "      <td>80%</td>\n",
              "    </tr>\n",
              "    <tr>\n",
              "      <th>1</th>\n",
              "      <td>2</td>\n",
              "      <td>0.00010</td>\n",
              "      <td>0.1</td>\n",
              "      <td>5</td>\n",
              "      <td>88%</td>\n",
              "      <td>91%</td>\n",
              "    </tr>\n",
              "    <tr>\n",
              "      <th>2</th>\n",
              "      <td>3</td>\n",
              "      <td>0.00010</td>\n",
              "      <td>0.9</td>\n",
              "      <td>10</td>\n",
              "      <td>87%</td>\n",
              "      <td>93%</td>\n",
              "    </tr>\n",
              "    <tr>\n",
              "      <th>3</th>\n",
              "      <td>4</td>\n",
              "      <td>0.00001</td>\n",
              "      <td>0.1</td>\n",
              "      <td>1</td>\n",
              "      <td>94%</td>\n",
              "      <td>69%</td>\n",
              "    </tr>\n",
              "    <tr>\n",
              "      <th>4</th>\n",
              "      <td>5</td>\n",
              "      <td>0.00200</td>\n",
              "      <td>0.5</td>\n",
              "      <td>5</td>\n",
              "      <td>87%</td>\n",
              "      <td>92%</td>\n",
              "    </tr>\n",
              "  </tbody>\n",
              "</table>\n",
              "</div>\n",
              "    <div class=\"colab-df-buttons\">\n",
              "\n",
              "  <div class=\"colab-df-container\">\n",
              "    <button class=\"colab-df-convert\" onclick=\"convertToInteractive('df-b6c902b2-ad67-4e97-85a6-df502c6403f8')\"\n",
              "            title=\"Convert this dataframe to an interactive table.\"\n",
              "            style=\"display:none;\">\n",
              "\n",
              "  <svg xmlns=\"http://www.w3.org/2000/svg\" height=\"24px\" viewBox=\"0 -960 960 960\">\n",
              "    <path d=\"M120-120v-720h720v720H120Zm60-500h600v-160H180v160Zm220 220h160v-160H400v160Zm0 220h160v-160H400v160ZM180-400h160v-160H180v160Zm440 0h160v-160H620v160ZM180-180h160v-160H180v160Zm440 0h160v-160H620v160Z\"/>\n",
              "  </svg>\n",
              "    </button>\n",
              "\n",
              "  <style>\n",
              "    .colab-df-container {\n",
              "      display:flex;\n",
              "      gap: 12px;\n",
              "    }\n",
              "\n",
              "    .colab-df-convert {\n",
              "      background-color: #E8F0FE;\n",
              "      border: none;\n",
              "      border-radius: 50%;\n",
              "      cursor: pointer;\n",
              "      display: none;\n",
              "      fill: #1967D2;\n",
              "      height: 32px;\n",
              "      padding: 0 0 0 0;\n",
              "      width: 32px;\n",
              "    }\n",
              "\n",
              "    .colab-df-convert:hover {\n",
              "      background-color: #E2EBFA;\n",
              "      box-shadow: 0px 1px 2px rgba(60, 64, 67, 0.3), 0px 1px 3px 1px rgba(60, 64, 67, 0.15);\n",
              "      fill: #174EA6;\n",
              "    }\n",
              "\n",
              "    .colab-df-buttons div {\n",
              "      margin-bottom: 4px;\n",
              "    }\n",
              "\n",
              "    [theme=dark] .colab-df-convert {\n",
              "      background-color: #3B4455;\n",
              "      fill: #D2E3FC;\n",
              "    }\n",
              "\n",
              "    [theme=dark] .colab-df-convert:hover {\n",
              "      background-color: #434B5C;\n",
              "      box-shadow: 0px 1px 3px 1px rgba(0, 0, 0, 0.15);\n",
              "      filter: drop-shadow(0px 1px 2px rgba(0, 0, 0, 0.3));\n",
              "      fill: #FFFFFF;\n",
              "    }\n",
              "  </style>\n",
              "\n",
              "    <script>\n",
              "      const buttonEl =\n",
              "        document.querySelector('#df-b6c902b2-ad67-4e97-85a6-df502c6403f8 button.colab-df-convert');\n",
              "      buttonEl.style.display =\n",
              "        google.colab.kernel.accessAllowed ? 'block' : 'none';\n",
              "\n",
              "      async function convertToInteractive(key) {\n",
              "        const element = document.querySelector('#df-b6c902b2-ad67-4e97-85a6-df502c6403f8');\n",
              "        const dataTable =\n",
              "          await google.colab.kernel.invokeFunction('convertToInteractive',\n",
              "                                                    [key], {});\n",
              "        if (!dataTable) return;\n",
              "\n",
              "        const docLinkHtml = 'Like what you see? Visit the ' +\n",
              "          '<a target=\"_blank\" href=https://colab.research.google.com/notebooks/data_table.ipynb>data table notebook</a>'\n",
              "          + ' to learn more about interactive tables.';\n",
              "        element.innerHTML = '';\n",
              "        dataTable['output_type'] = 'display_data';\n",
              "        await google.colab.output.renderOutput(dataTable, element);\n",
              "        const docLink = document.createElement('div');\n",
              "        docLink.innerHTML = docLinkHtml;\n",
              "        element.appendChild(docLink);\n",
              "      }\n",
              "    </script>\n",
              "  </div>\n",
              "\n",
              "\n",
              "<div id=\"df-8e973008-8a31-473a-9a1c-b25580ad68ce\">\n",
              "  <button class=\"colab-df-quickchart\" onclick=\"quickchart('df-8e973008-8a31-473a-9a1c-b25580ad68ce')\"\n",
              "            title=\"Suggest charts.\"\n",
              "            style=\"display:none;\">\n",
              "\n",
              "<svg xmlns=\"http://www.w3.org/2000/svg\" height=\"24px\"viewBox=\"0 0 24 24\"\n",
              "     width=\"24px\">\n",
              "    <g>\n",
              "        <path d=\"M19 3H5c-1.1 0-2 .9-2 2v14c0 1.1.9 2 2 2h14c1.1 0 2-.9 2-2V5c0-1.1-.9-2-2-2zM9 17H7v-7h2v7zm4 0h-2V7h2v10zm4 0h-2v-4h2v4z\"/>\n",
              "    </g>\n",
              "</svg>\n",
              "  </button>\n",
              "\n",
              "<style>\n",
              "  .colab-df-quickchart {\n",
              "    background-color: #E8F0FE;\n",
              "    border: none;\n",
              "    border-radius: 50%;\n",
              "    cursor: pointer;\n",
              "    display: none;\n",
              "    fill: #1967D2;\n",
              "    height: 32px;\n",
              "    padding: 0 0 0 0;\n",
              "    width: 32px;\n",
              "  }\n",
              "\n",
              "  .colab-df-quickchart:hover {\n",
              "    background-color: #E2EBFA;\n",
              "    box-shadow: 0px 1px 2px rgba(60, 64, 67, 0.3), 0px 1px 3px 1px rgba(60, 64, 67, 0.15);\n",
              "    fill: #174EA6;\n",
              "  }\n",
              "\n",
              "  [theme=dark] .colab-df-quickchart {\n",
              "    background-color: #3B4455;\n",
              "    fill: #D2E3FC;\n",
              "  }\n",
              "\n",
              "  [theme=dark] .colab-df-quickchart:hover {\n",
              "    background-color: #434B5C;\n",
              "    box-shadow: 0px 1px 3px 1px rgba(0, 0, 0, 0.15);\n",
              "    filter: drop-shadow(0px 1px 2px rgba(0, 0, 0, 0.3));\n",
              "    fill: #FFFFFF;\n",
              "  }\n",
              "</style>\n",
              "\n",
              "  <script>\n",
              "    async function quickchart(key) {\n",
              "      const charts = await google.colab.kernel.invokeFunction(\n",
              "          'suggestCharts', [key], {});\n",
              "    }\n",
              "    (() => {\n",
              "      let quickchartButtonEl =\n",
              "        document.querySelector('#df-8e973008-8a31-473a-9a1c-b25580ad68ce button');\n",
              "      quickchartButtonEl.style.display =\n",
              "        google.colab.kernel.accessAllowed ? 'block' : 'none';\n",
              "    })();\n",
              "  </script>\n",
              "</div>\n",
              "    </div>\n",
              "  </div>\n"
            ]
          },
          "metadata": {},
          "execution_count": 17
        }
      ]
    },
    {
      "cell_type": "code",
      "source": [
        "import pandas as pd\n",
        "import matplotlib.pyplot as plt\n",
        "from pandas.plotting import andrews_curves\n",
        "import seaborn as sns\n",
        "import numpy as np\n",
        "import os\n",
        "from sklearn.metrics import accuracy_score\n",
        "\n",
        "path_train = '/content/drive/MyDrive/Data/train_data.csv'\n",
        "train_df = pd.read_csv(path_train)\n",
        "\n",
        "path_val = '/content/drive/MyDrive/Data/val_data.csv'\n",
        "val_df = pd.read_csv(path_val)"
      ],
      "metadata": {
        "id": "eF3NqkOzslq6"
      },
      "execution_count": null,
      "outputs": []
    },
    {
      "cell_type": "code",
      "source": [
        "X = ['age', 'hypertension', 'heart_disease', 'bmi', 'HbA1c_level', 'blood_glucose_level']\n",
        "y = ['diabetes']\n",
        "\n",
        "X_train = train_df[X]\n",
        "print('X_train, our input variables:')\n",
        "print(X_train.head())\n",
        "print()\n",
        "\n",
        "y_train = train_df[y]\n",
        "print('y_train, our output variable:')\n",
        "print(y_train.head())"
      ],
      "metadata": {
        "colab": {
          "base_uri": "https://localhost:8080/"
        },
        "id": "P6qLKkduso5p",
        "outputId": "5f960470-40fd-4220-8b2f-9638c2bdda64"
      },
      "execution_count": null,
      "outputs": [
        {
          "output_type": "stream",
          "name": "stdout",
          "text": [
            "X_train, our input variables:\n",
            "    age  hypertension  heart_disease    bmi  HbA1c_level  blood_glucose_level\n",
            "0  36.0             0              0  17.06          4.0                  145\n",
            "1  58.0             0              0  37.83          6.1                  159\n",
            "2  43.0             0              0  39.20          5.0                  160\n",
            "3  67.0             1              0  28.39          5.7                  159\n",
            "4   5.0             0              0  27.32          6.0                   80\n",
            "\n",
            "y_train, our output variable:\n",
            "   diabetes\n",
            "0         0\n",
            "1         0\n",
            "2         0\n",
            "3         0\n",
            "4         0\n"
          ]
        }
      ]
    },
    {
      "cell_type": "code",
      "source": [
        "from imblearn.over_sampling import ADASYN"
      ],
      "metadata": {
        "id": "hanjSdvDs5sP"
      },
      "execution_count": null,
      "outputs": []
    },
    {
      "cell_type": "code",
      "source": [
        "adasyn = ADASYN(random_state=42)\n",
        "X_adasyn, y_adasyn = adasyn.fit_resample(X_train, y_train)"
      ],
      "metadata": {
        "id": "E-Ev3AMWs64j"
      },
      "execution_count": null,
      "outputs": []
    },
    {
      "cell_type": "code",
      "source": [
        "X_val = val_df[X]\n",
        "y_val = val_df[y]"
      ],
      "metadata": {
        "id": "X8bVtVjts9ZJ"
      },
      "execution_count": null,
      "outputs": []
    },
    {
      "cell_type": "code",
      "execution_count": null,
      "metadata": {
        "id": "F3qFGTSwrktf"
      },
      "outputs": [],
      "source": [
        "import torch\n",
        "import torch.nn as nn\n",
        "import torch.optim as optim\n",
        "from torch.utils.data import Dataset, DataLoader\n",
        "from sklearn.preprocessing import StandardScaler\n",
        "from sklearn.metrics import accuracy_score"
      ]
    },
    {
      "cell_type": "code",
      "source": [
        "scaler = StandardScaler()\n",
        "X_adasyn_scaled = scaler.fit_transform(X_adasyn)\n",
        "X_val_scaled = scaler.transform(X_val)"
      ],
      "metadata": {
        "id": "VTrEuC6JtHD4"
      },
      "execution_count": null,
      "outputs": []
    },
    {
      "cell_type": "code",
      "source": [
        "# Convert pandas DataFrames to PyTorch tensors\n",
        "X_adasyn_tensor = torch.tensor(X_adasyn_scaled, dtype=torch.float32)\n",
        "y_adasyn_tensor = torch.tensor(y_adasyn.values, dtype=torch.float32)\n",
        "X_val_tensor = torch.tensor(X_val_scaled, dtype=torch.float32)\n",
        "y_val_tensor = torch.tensor(y_val.values, dtype=torch.float32)"
      ],
      "metadata": {
        "id": "zifR0aGeru3I"
      },
      "execution_count": null,
      "outputs": []
    },
    {
      "cell_type": "code",
      "source": [
        "class DiabetesPredictionModel(nn.Module):\n",
        "    def __init__(self, input_size):\n",
        "        super(DiabetesPredictionModel, self).__init__()\n",
        "        self.conv_stack = nn.Sequential(\n",
        "            nn.Conv1d(1, 32, kernel_size=3, padding=1),\n",
        "            nn.BatchNorm1d(32),\n",
        "            nn.ReLU(),\n",
        "            nn.MaxPool1d(kernel_size=2),\n",
        "            nn.Conv1d(32, 64, kernel_size=3, padding=1),\n",
        "            nn.BatchNorm1d(64),\n",
        "            nn.ReLU(),\n",
        "            nn.MaxPool1d(kernel_size=2),\n",
        "            nn.Flatten()\n",
        "        )\n",
        "\n",
        "        # Calculate the output size of the convolutional layers\n",
        "        with torch.no_grad():\n",
        "            dummy_input = torch.zeros(1, 1, input_size)\n",
        "            conv_output_size = self._get_conv_output_size(dummy_input)\n",
        "\n",
        "        self.linear_stack = nn.Sequential(\n",
        "            nn.Linear(conv_output_size, 128),\n",
        "            nn.ReLU(),\n",
        "            nn.Dropout(0.2),\n",
        "            nn.Linear(128, 64),\n",
        "            nn.ReLU(),\n",
        "            nn.Dropout(0.2),\n",
        "            nn.Linear(64, 32),\n",
        "            nn.ReLU(),\n",
        "            nn.Dropout(0.2),\n",
        "            nn.Linear(32, 1),\n",
        "        )\n",
        "\n",
        "    def _get_conv_output_size(self, x):\n",
        "        x = self.conv_stack(x)\n",
        "        return x.view(x.size(0), -1).size(1)\n",
        "\n",
        "    def forward(self, x):\n",
        "        x = self.conv_stack(x)\n",
        "        logits = self.linear_stack(x)\n",
        "        return logits"
      ],
      "metadata": {
        "id": "R35FrMiarxLU"
      },
      "execution_count": null,
      "outputs": []
    },
    {
      "cell_type": "code",
      "source": [
        "# Define custom dataset for training and testing\n",
        "class DiabetesDataset(Dataset):\n",
        "    def __init__(self, X, y):\n",
        "        self.X = X\n",
        "        self.y = y\n",
        "\n",
        "    def __getitem__(self, index):\n",
        "        return self.X[index], self.y[index]\n",
        "\n",
        "    def __len__(self):\n",
        "        return len(self.X)"
      ],
      "metadata": {
        "id": "7zqpJz9AtjMZ"
      },
      "execution_count": null,
      "outputs": []
    },
    {
      "cell_type": "code",
      "source": [
        "import os\n",
        "from google.colab import files"
      ],
      "metadata": {
        "id": "WTyh7IxZPR0f"
      },
      "execution_count": null,
      "outputs": []
    },
    {
      "cell_type": "code",
      "source": [
        "os.makedirs('/content/drive/MyDrive/Models', exist_ok=True)"
      ],
      "metadata": {
        "id": "-gGt3bdBPREG"
      },
      "execution_count": null,
      "outputs": []
    },
    {
      "cell_type": "code",
      "source": [
        "# Create data loaders for training and validation\n",
        "adasyn_dataset = DiabetesDataset(X_adasyn_tensor.unsqueeze(1), y_adasyn_tensor)  # Add an extra dimension for input channels\n",
        "val_dataset = DiabetesDataset(X_val_tensor.unsqueeze(1), y_val_tensor)  # Add an extra dimension for input channels\n",
        "adasyn_loader = DataLoader(adasyn_dataset, batch_size=64, shuffle=True)\n",
        "val_loader = DataLoader(val_dataset, batch_size=64)"
      ],
      "metadata": {
        "id": "PmuGxEQ_TAC-"
      },
      "execution_count": null,
      "outputs": []
    },
    {
      "cell_type": "code",
      "source": [
        "from sklearn.metrics import confusion_matrix"
      ],
      "metadata": {
        "id": "ejlGgfq7Vxnm"
      },
      "execution_count": null,
      "outputs": []
    },
    {
      "cell_type": "code",
      "source": [
        "import random\n",
        "\n",
        "max_list_length = 10\n",
        "\n",
        "# Define the run_model_experiment function\n",
        "def run_model_experiment(experiment_number):\n",
        "    # Generate random learning rate, factor, and patience values\n",
        "    lr = random.uniform(1e-5, 1e-2)\n",
        "    hyp1 = random.uniform(0.05, 0.9)\n",
        "    hyp2 = random.randint(1, 10)\n",
        "\n",
        "    # Instantiate the model\n",
        "    input_size = X_adasyn_tensor.shape[1]\n",
        "    model = DiabetesPredictionModel(input_size)\n",
        "\n",
        "    criterion = nn.BCEWithLogitsLoss()\n",
        "    optimizer = optim.AdamW(model.parameters(), lr=lr, weight_decay=0.01)\n",
        "\n",
        "    scheduler = optim.lr_scheduler.ReduceLROnPlateau(optimizer, factor=hyp1, patience=hyp2, verbose=True)\n",
        "\n",
        "    num_epochs = 5\n",
        "    best_val_loss = float('inf')\n",
        "    for epoch in range(num_epochs):\n",
        "        model.train()\n",
        "        train_loss = 0.0\n",
        "        for inputs, targets in adasyn_loader:\n",
        "            optimizer.zero_grad()\n",
        "            outputs = model(inputs)\n",
        "            loss = criterion(outputs.squeeze(), targets.squeeze())\n",
        "            loss.backward()\n",
        "\n",
        "            optimizer.step()\n",
        "            train_loss += loss.item() * inputs.size(0)\n",
        "        train_loss /= len(adasyn_dataset)\n",
        "\n",
        "        model.eval()\n",
        "        val_loss = 0.0\n",
        "        with torch.no_grad():\n",
        "            for inputs, targets in val_loader:\n",
        "                outputs = model(inputs)\n",
        "                loss = criterion(outputs.squeeze(), targets.squeeze())\n",
        "                val_loss += loss.item() * inputs.size(0)\n",
        "        val_loss /= len(val_dataset)\n",
        "\n",
        "        scheduler.step(val_loss)\n",
        "\n",
        "        if val_loss < best_val_loss:\n",
        "            best_val_loss = val_loss\n",
        "            torch.save(model.state_dict(), f'/content/drive/MyDrive/Models/model_{experiment_number}.pt')\n",
        "\n",
        "        print(f\"Epoch {epoch+1}/{num_epochs}, Train Loss: {train_loss:.2f}, Val Loss: {val_loss:.2f}\")\n",
        "\n",
        "    model.load_state_dict(torch.load(f'/content/drive/MyDrive/Models/model_{experiment_number}.pt'))\n",
        "\n",
        "    model.eval()\n",
        "    with torch.no_grad():\n",
        "        y_pred_adasyn = (model(X_adasyn_tensor.unsqueeze(1)) > 0.5).squeeze().numpy()\n",
        "        y_pred_val = (model(X_val_tensor.unsqueeze(1)) > 0.5).squeeze().numpy()\n",
        "\n",
        "    val_accuracy = round(accuracy_score(y_val, y_pred_val) * 100, 1)\n",
        "\n",
        "    # Calculate diabetes prediction accuracy\n",
        "    cm_val = confusion_matrix(y_val, y_pred_val)\n",
        "\n",
        "    diabetes_accuracy_val = round(cm_val[1][1] / (cm_val[1][1] + cm_val[1][0]) * 100, 1)\n",
        "\n",
        "    print(\"Val Accuracy:\", val_accuracy)\n",
        "\n",
        "    print(\"Val Diabetes Accuracy:\", diabetes_accuracy_val)\n",
        "\n",
        "    # Format lr and accuracies for Google Sheets\n",
        "    lr_str = \"{:.2E}\".format(lr)\n",
        "    val_accuracy_str = str(val_accuracy) + '%'\n",
        "    diabetes_accuracy_val_str = str(diabetes_accuracy_val) + '%'\n",
        "\n",
        "    # Add experiment details to Google Sheets\n",
        "    worksheet.append_row([experiment_number, lr_str, hyp1, hyp2, val_accuracy_str, diabetes_accuracy_val_str])\n",
        "\n",
        "adasyn_loader = DataLoader(adasyn_dataset, batch_size=64, shuffle=True)\n",
        "val_loader = DataLoader(val_dataset, batch_size=64)\n",
        "\n",
        "# Run experiments\n",
        "experiment_number = 71\n",
        "for _ in range(max_list_length):\n",
        "    run_model_experiment(experiment_number)\n",
        "    experiment_number += 1\n"
      ],
      "metadata": {
        "colab": {
          "base_uri": "https://localhost:8080/"
        },
        "id": "Vv1FBU1vRNBd",
        "outputId": "e68a4769-a356-447f-c890-5c837ae22455"
      },
      "execution_count": null,
      "outputs": [
        {
          "output_type": "stream",
          "name": "stdout",
          "text": [
            "Epoch 1/5, Train Loss: 0.30, Val Loss: 0.30\n",
            "Epoch 2/5, Train Loss: 0.28, Val Loss: 0.28\n",
            "Epoch 3/5, Train Loss: 0.28, Val Loss: 0.29\n",
            "Epoch 4/5, Train Loss: 0.28, Val Loss: 0.24\n",
            "Epoch 5/5, Train Loss: 0.28, Val Loss: 0.31\n",
            "Val Accuracy: 89.3\n",
            "Val Diabetes Accuracy: 90.9\n",
            "Epoch 1/5, Train Loss: 0.29, Val Loss: 0.24\n",
            "Epoch 2/5, Train Loss: 0.28, Val Loss: 0.24\n",
            "Epoch 3/5, Train Loss: 0.28, Val Loss: 0.29\n",
            "Epoch 00004: reducing learning rate of group 0 to 1.9862e-03.\n",
            "Epoch 4/5, Train Loss: 0.27, Val Loss: 0.28\n",
            "Epoch 5/5, Train Loss: 0.27, Val Loss: 0.28\n",
            "Val Accuracy: 89.4\n",
            "Val Diabetes Accuracy: 86.5\n",
            "Epoch 1/5, Train Loss: 0.30, Val Loss: 0.27\n",
            "Epoch 2/5, Train Loss: 0.29, Val Loss: 0.34\n",
            "Epoch 3/5, Train Loss: 0.28, Val Loss: 0.24\n",
            "Epoch 4/5, Train Loss: 0.28, Val Loss: 0.29\n",
            "Epoch 5/5, Train Loss: 0.28, Val Loss: 0.27\n",
            "Val Accuracy: 87.7\n",
            "Val Diabetes Accuracy: 90.2\n",
            "Epoch 1/5, Train Loss: 0.29, Val Loss: 0.33\n",
            "Epoch 2/5, Train Loss: 0.28, Val Loss: 0.29\n",
            "Epoch 3/5, Train Loss: 0.28, Val Loss: 0.25\n",
            "Epoch 4/5, Train Loss: 0.28, Val Loss: 0.30\n",
            "Epoch 5/5, Train Loss: 0.28, Val Loss: 0.29\n",
            "Val Accuracy: 88.2\n",
            "Val Diabetes Accuracy: 90.2\n",
            "Epoch 1/5, Train Loss: 0.30, Val Loss: 0.27\n",
            "Epoch 2/5, Train Loss: 0.28, Val Loss: 0.28\n",
            "Epoch 3/5, Train Loss: 0.28, Val Loss: 0.31\n",
            "Epoch 4/5, Train Loss: 0.28, Val Loss: 0.25\n",
            "Epoch 5/5, Train Loss: 0.27, Val Loss: 0.26\n",
            "Val Accuracy: 89.5\n",
            "Val Diabetes Accuracy: 87.4\n",
            "Epoch 1/5, Train Loss: 0.29, Val Loss: 0.35\n",
            "Epoch 2/5, Train Loss: 0.28, Val Loss: 0.25\n",
            "Epoch 3/5, Train Loss: 0.28, Val Loss: 0.25\n",
            "Epoch 4/5, Train Loss: 0.28, Val Loss: 0.31\n",
            "Epoch 5/5, Train Loss: 0.28, Val Loss: 0.24\n",
            "Val Accuracy: 90.8\n",
            "Val Diabetes Accuracy: 79.7\n",
            "Epoch 1/5, Train Loss: 0.30, Val Loss: 0.30\n",
            "Epoch 2/5, Train Loss: 0.29, Val Loss: 0.29\n",
            "Epoch 3/5, Train Loss: 0.28, Val Loss: 0.28\n",
            "Epoch 4/5, Train Loss: 0.28, Val Loss: 0.31\n",
            "Epoch 5/5, Train Loss: 0.28, Val Loss: 0.33\n",
            "Val Accuracy: 85.8\n",
            "Val Diabetes Accuracy: 92.5\n",
            "Epoch 1/5, Train Loss: 0.30, Val Loss: 0.30\n",
            "Epoch 2/5, Train Loss: 0.28, Val Loss: 0.30\n",
            "Epoch 3/5, Train Loss: 0.28, Val Loss: 0.30\n",
            "Epoch 4/5, Train Loss: 0.28, Val Loss: 0.28\n",
            "Epoch 5/5, Train Loss: 0.28, Val Loss: 0.29\n",
            "Val Accuracy: 85.2\n",
            "Val Diabetes Accuracy: 94.9\n",
            "Epoch 1/5, Train Loss: 0.29, Val Loss: 0.28\n",
            "Epoch 2/5, Train Loss: 0.28, Val Loss: 0.24\n",
            "Epoch 3/5, Train Loss: 0.27, Val Loss: 0.26\n",
            "Epoch 4/5, Train Loss: 0.27, Val Loss: 0.29\n",
            "Epoch 5/5, Train Loss: 0.27, Val Loss: 0.31\n",
            "Val Accuracy: 88.9\n",
            "Val Diabetes Accuracy: 87.2\n",
            "Epoch 1/5, Train Loss: 0.30, Val Loss: 0.28\n",
            "Epoch 2/5, Train Loss: 0.29, Val Loss: 0.36\n",
            "Epoch 3/5, Train Loss: 0.29, Val Loss: 0.23\n",
            "Epoch 4/5, Train Loss: 0.28, Val Loss: 0.28\n",
            "Epoch 5/5, Train Loss: 0.28, Val Loss: 0.28\n",
            "Val Accuracy: 88.2\n",
            "Val Diabetes Accuracy: 90.7\n"
          ]
        }
      ]
    },
    {
      "cell_type": "code",
      "source": [
        "# Creating data loaders for training and validation\n",
        "adasyn_dataset = DiabetesDataset(X_adasyn_tensor.unsqueeze(1), y_adasyn_tensor)\n",
        "val_dataset = DiabetesDataset(X_val_tensor.unsqueeze(1), y_val_tensor)\n",
        "adasyn_loader = DataLoader(adasyn_dataset, batch_size=64, shuffle=True)\n",
        "val_loader = DataLoader(val_dataset, batch_size=64)\n",
        "\n",
        "# Instantiating the model\n",
        "input_size = X_adasyn_tensor.shape[1]\n",
        "model = DiabetesPredictionModel(input_size)\n",
        "\n",
        "criterion = nn.BCEWithLogitsLoss()\n",
        "optimizer = optim.AdamW(model.parameters(), lr=0.0001, weight_decay=0.01)\n",
        "\n",
        "scheduler = optim.lr_scheduler.ReduceLROnPlateau(optimizer, factor=0.9, patience=10, verbose=True)"
      ],
      "metadata": {
        "id": "6qlNwHAQk6VQ"
      },
      "execution_count": null,
      "outputs": []
    },
    {
      "cell_type": "code",
      "source": [
        "#Training and testing model\n",
        "num_epochs = 5\n",
        "best_val_loss = float('inf')\n",
        "for epoch in range(num_epochs):\n",
        "    model.train()\n",
        "    train_loss = 0.0\n",
        "    for inputs, targets in adasyn_loader:\n",
        "        optimizer.zero_grad()\n",
        "        outputs = model(inputs)\n",
        "        loss = criterion(outputs.squeeze(), targets.squeeze())\n",
        "        loss.backward()\n",
        "\n",
        "        optimizer.step()\n",
        "        train_loss += loss.item() * inputs.size(0)\n",
        "    train_loss /= len(adasyn_dataset)\n",
        "\n",
        "    model.eval()\n",
        "    val_loss = 0.0\n",
        "    with torch.no_grad():\n",
        "        for inputs, targets in val_loader:\n",
        "            outputs = model(inputs)\n",
        "            loss = criterion(outputs.squeeze(), targets.squeeze())\n",
        "            val_loss += loss.item() * inputs.size(0)\n",
        "    val_loss /= len(val_dataset)\n",
        "\n",
        "    scheduler.step(val_loss)\n",
        "\n",
        "    if val_loss < best_val_loss:\n",
        "        best_val_loss = val_loss\n",
        "        torch.save(model.state_dict(), 'best_model.pt')  # Save the best model\n",
        "\n",
        "    print(f\"Epoch {epoch+1}/{num_epochs}, Train Loss: {train_loss:.4f}, Val Loss: {val_loss:.4f}\")\n",
        "\n",
        "# Loading the best model for predictions\n",
        "model.load_state_dict(torch.load('best_model.pt'))\n"
      ],
      "metadata": {
        "colab": {
          "base_uri": "https://localhost:8080/"
        },
        "id": "OGC8OUVpk9aT",
        "outputId": "5c148478-0d7a-426e-e22b-c1bd42b4e71c"
      },
      "execution_count": null,
      "outputs": [
        {
          "output_type": "stream",
          "name": "stdout",
          "text": [
            "Epoch 1/5, Train Loss: 0.3380, Val Loss: 0.3116\n",
            "Epoch 2/5, Train Loss: 0.2850, Val Loss: 0.2659\n",
            "Epoch 3/5, Train Loss: 0.2738, Val Loss: 0.3047\n",
            "Epoch 4/5, Train Loss: 0.2680, Val Loss: 0.2850\n",
            "Epoch 5/5, Train Loss: 0.2642, Val Loss: 0.2852\n"
          ]
        },
        {
          "output_type": "execute_result",
          "data": {
            "text/plain": [
              "<All keys matched successfully>"
            ]
          },
          "metadata": {},
          "execution_count": 45
        }
      ]
    },
    {
      "cell_type": "code",
      "source": [
        "model.eval()\n",
        "with torch.no_grad():\n",
        "    y_pred_adasyn = (model(X_adasyn_tensor.unsqueeze(1)) > 0.5).squeeze().numpy()\n",
        "    y_pred_val = (model(X_val_tensor.unsqueeze(1)) > 0.5).squeeze().numpy()\n",
        "\n",
        "adasyn_accuracy = accuracy_score(y_adasyn, y_pred_adasyn)\n",
        "val_accuracy = accuracy_score(y_val, y_pred_val)\n",
        "\n",
        "print(\"ADASYN Accuracy:\", adasyn_accuracy)\n",
        "print(\"Val Accuracy:\", val_accuracy)\n"
      ],
      "metadata": {
        "colab": {
          "base_uri": "https://localhost:8080/"
        },
        "id": "BA6lBpjztqP-",
        "outputId": "03e64b5d-dd17-4d77-b9df-03f812685ffb"
      },
      "execution_count": null,
      "outputs": [
        {
          "output_type": "stream",
          "name": "stdout",
          "text": [
            "ADASYN Accuracy: 0.8711915902047761\n",
            "Val Accuracy: 0.8766\n"
          ]
        }
      ]
    },
    {
      "cell_type": "code",
      "source": [
        "from sklearn.metrics import confusion_matrix\n",
        "\n",
        "cm = confusion_matrix(y_val, y_pred_val)\n",
        "\n",
        "cm_df = pd.DataFrame(cm, index = [i for i in \"01\"], columns = [i for i in \"01\"])\n",
        "\n",
        "plt.figure(figsize=(7,5))\n",
        "sns.heatmap(cm_df, annot=True, cmap='Blues', fmt='g')\n",
        "plt.title('Confusion Matrix')\n",
        "plt.ylabel('Actual Label')\n",
        "plt.xlabel('Predicted Label')\n",
        "plt.show()"
      ],
      "metadata": {
        "colab": {
          "base_uri": "https://localhost:8080/",
          "height": 487
        },
        "id": "PHmOOsNItt3l",
        "outputId": "1967af87-24ce-45b0-bf9f-43b975232d7c"
      },
      "execution_count": null,
      "outputs": [
        {
          "output_type": "display_data",
          "data": {
            "text/plain": [
              "<Figure size 700x500 with 2 Axes>"
            ],
            "image/png": "[encoded data removed]"
          },
          "metadata": {}
        }
      ]
    },
    {
      "cell_type": "code",
      "source": [
        "import pickle\n",
        "\n",
        "# Assuming you have trained your model and it's stored in the variable `DiabetesPredictionModel`\n",
        "# Save the model to a .h5 file using pickle\n",
        "with open('/content/drive/MyDrive/Data/model.pkl', 'wb') as file:\n",
        "    pickle.dump(DiabetesPredictionModel, file)\n"
      ],
      "metadata": {
        "id": "96F6gtRwwwW6"
      },
      "execution_count": null,
      "outputs": []
    }
  ]
}