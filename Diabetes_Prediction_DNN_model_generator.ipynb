{
  "nbformat": 4,
  "nbformat_minor": 0,
  "metadata": {
    "colab": {
      "provenance": []
    },
    "kernelspec": {
      "name": "python3",
      "display_name": "Python 3"
    },
    "language_info": {
      "name": "python"
    }
  },
  "cells": [
    {
      "cell_type": "code",
      "source": [
        "from google.colab import drive\n",
        "drive.mount('/content/drive')"
      ],
      "metadata": {
        "id": "c8hK3tzdo8k_"
      },
      "execution_count": null,
      "outputs": []
    },
    {
      "cell_type": "code",
      "source": [
        "sheet_id = \"1KGICaTvObgaS4aFhk85vmrnnV0DT5lv9wkyvY-InzTE\"\n",
        "worksheet_name = \"Sheet1\""
      ],
      "metadata": {
        "id": "gqbGMon3GDaE"
      },
      "execution_count": null,
      "outputs": []
    },
    {
      "cell_type": "markdown",
      "source": [
        "\n",
        "The code defines a Google Sheets ID (sheet_id) and a worksheet name (worksheet_name) for future reference"
      ],
      "metadata": {
        "id": "uBVL_7kAqNJ7"
      }
    },
    {
      "cell_type": "code",
      "source": [
        "!pip install --upgrade gspread\n",
        "!pip install pandas"
      ],
      "metadata": {
        "id": "R-b6rv4jGExp"
      },
      "execution_count": null,
      "outputs": []
    },
    {
      "cell_type": "code",
      "source": [
        "import pandas as pd\n",
        "import matplotlib.pyplot as plt\n",
        "from pandas.plotting import andrews_curves\n",
        "import seaborn as sns\n",
        "import numpy as np\n",
        "import os\n",
        "from sklearn.metrics import accuracy_score\n",
        "from google.colab import auth\n",
        "import gspread\n",
        "from google.auth import default\n",
        "import torch\n",
        "import torch.nn as nn\n",
        "import torch.optim as optim\n",
        "from torch.utils.data import Dataset, DataLoader\n",
        "from sklearn.preprocessing import StandardScaler\n",
        "from sklearn.metrics import accuracy_score\n",
        "\n",
        "path_train = '/content/drive/MyDrive/Data/train_data.csv'\n",
        "train_df = pd.read_csv(path_train)\n",
        "\n",
        "path_val = '/content/drive/MyDrive/Data/val_data.csv'\n",
        "val_df = pd.read_csv(path_val)"
      ],
      "metadata": {
        "id": "eF3NqkOzslq6"
      },
      "execution_count": null,
      "outputs": []
    },
    {
      "cell_type": "markdown",
      "source": [
        "Importing Libraries to set up the notebook, and getting the dataset ready to be used by the AI model."
      ],
      "metadata": {
        "id": "I2Xb7e-0rCMn"
      }
    },
    {
      "cell_type": "code",
      "source": [
        "auth.authenticate_user()\n",
        "creds, _ = default()\n",
        "gc = gspread.authorize(creds)\n",
        "sh = gc.open_by_key(sheet_id)\n",
        "sh.worksheets()\n",
        "worksheet = sh.worksheet(worksheet_name)\n",
        "worksheet.get_all_records()\n",
        "df = pd.DataFrame(worksheet.get_all_records())"
      ],
      "metadata": {
        "id": "-vM1pUGQGKb1"
      },
      "execution_count": null,
      "outputs": []
    },
    {
      "cell_type": "markdown",
      "source": [
        "The code retrieves all records from the worksheet, and converts them into a pandas DataFrame (df)."
      ],
      "metadata": {
        "id": "5xucqHwgrMnj"
      }
    },
    {
      "cell_type": "code",
      "source": [
        "df"
      ],
      "metadata": {
        "colab": {
          "base_uri": "https://localhost:8080/",
          "height": 206
        },
        "id": "iy6Q-3aPGlD3",
        "outputId": "89628f01-76dd-444a-d5dd-7c7c31bda257"
      },
      "execution_count": null,
      "outputs": [
        {
          "output_type": "execute_result",
          "data": {
            "text/plain": [
              "   Model       LR  factor  patience Validation accuracy Diabetes Accuracy\n",
              "0      1  0.00100     0.1         5                 90%               80%\n",
              "1      2  0.00010     0.1         5                 88%               91%\n",
              "2      3  0.00010     0.9        10                 87%               93%\n",
              "3      4  0.00001     0.1         1                 94%               69%\n",
              "4      5  0.00200     0.5         5                 87%               92%"
            ],
            "text/html": [
              "\n",
              "  <div id=\"df-b6c902b2-ad67-4e97-85a6-df502c6403f8\" class=\"colab-df-container\">\n",
              "    <div>\n",
              "<style scoped>\n",
              "    .dataframe tbody tr th:only-of-type {\n",
              "        vertical-align: middle;\n",
              "    }\n",
              "\n",
              "    .dataframe tbody tr th {\n",
              "        vertical-align: top;\n",
              "    }\n",
              "\n",
              "    .dataframe thead th {\n",
              "        text-align: right;\n",
              "    }\n",
              "</style>\n",
              "<table border=\"1\" class=\"dataframe\">\n",
              "  <thead>\n",
              "    <tr style=\"text-align: right;\">\n",
              "      <th></th>\n",
              "      <th>Model</th>\n",
              "      <th>LR</th>\n",
              "      <th>factor</th>\n",
              "      <th>patience</th>\n",
              "      <th>Validation accuracy</th>\n",
              "      <th>Diabetes Accuracy</th>\n",
              "    </tr>\n",
              "  </thead>\n",
              "  <tbody>\n",
              "    <tr>\n",
              "      <th>0</th>\n",
              "      <td>1</td>\n",
              "      <td>0.00100</td>\n",
              "      <td>0.1</td>\n",
              "      <td>5</td>\n",
              "      <td>90%</td>\n",
              "      <td>80%</td>\n",
              "    </tr>\n",
              "    <tr>\n",
              "      <th>1</th>\n",
              "      <td>2</td>\n",
              "      <td>0.00010</td>\n",
              "      <td>0.1</td>\n",
              "      <td>5</td>\n",
              "      <td>88%</td>\n",
              "      <td>91%</td>\n",
              "    </tr>\n",
              "    <tr>\n",
              "      <th>2</th>\n",
              "      <td>3</td>\n",
              "      <td>0.00010</td>\n",
              "      <td>0.9</td>\n",
              "      <td>10</td>\n",
              "      <td>87%</td>\n",
              "      <td>93%</td>\n",
              "    </tr>\n",
              "    <tr>\n",
              "      <th>3</th>\n",
              "      <td>4</td>\n",
              "      <td>0.00001</td>\n",
              "      <td>0.1</td>\n",
              "      <td>1</td>\n",
              "      <td>94%</td>\n",
              "      <td>69%</td>\n",
              "    </tr>\n",
              "    <tr>\n",
              "      <th>4</th>\n",
              "      <td>5</td>\n",
              "      <td>0.00200</td>\n",
              "      <td>0.5</td>\n",
              "      <td>5</td>\n",
              "      <td>87%</td>\n",
              "      <td>92%</td>\n",
              "    </tr>\n",
              "  </tbody>\n",
              "</table>\n",
              "</div>\n",
              "    <div class=\"colab-df-buttons\">\n",
              "\n",
              "  <div class=\"colab-df-container\">\n",
              "    <button class=\"colab-df-convert\" onclick=\"convertToInteractive('df-b6c902b2-ad67-4e97-85a6-df502c6403f8')\"\n",
              "            title=\"Convert this dataframe to an interactive table.\"\n",
              "            style=\"display:none;\">\n",
              "\n",
              "  <svg xmlns=\"http://www.w3.org/2000/svg\" height=\"24px\" viewBox=\"0 -960 960 960\">\n",
              "    <path d=\"M120-120v-720h720v720H120Zm60-500h600v-160H180v160Zm220 220h160v-160H400v160Zm0 220h160v-160H400v160ZM180-400h160v-160H180v160Zm440 0h160v-160H620v160ZM180-180h160v-160H180v160Zm440 0h160v-160H620v160Z\"/>\n",
              "  </svg>\n",
              "    </button>\n",
              "\n",
              "  <style>\n",
              "    .colab-df-container {\n",
              "      display:flex;\n",
              "      gap: 12px;\n",
              "    }\n",
              "\n",
              "    .colab-df-convert {\n",
              "      background-color: #E8F0FE;\n",
              "      border: none;\n",
              "      border-radius: 50%;\n",
              "      cursor: pointer;\n",
              "      display: none;\n",
              "      fill: #1967D2;\n",
              "      height: 32px;\n",
              "      padding: 0 0 0 0;\n",
              "      width: 32px;\n",
              "    }\n",
              "\n",
              "    .colab-df-convert:hover {\n",
              "      background-color: #E2EBFA;\n",
              "      box-shadow: 0px 1px 2px rgba(60, 64, 67, 0.3), 0px 1px 3px 1px rgba(60, 64, 67, 0.15);\n",
              "      fill: #174EA6;\n",
              "    }\n",
              "\n",
              "    .colab-df-buttons div {\n",
              "      margin-bottom: 4px;\n",
              "    }\n",
              "\n",
              "    [theme=dark] .colab-df-convert {\n",
              "      background-color: #3B4455;\n",
              "      fill: #D2E3FC;\n",
              "    }\n",
              "\n",
              "    [theme=dark] .colab-df-convert:hover {\n",
              "      background-color: #434B5C;\n",
              "      box-shadow: 0px 1px 3px 1px rgba(0, 0, 0, 0.15);\n",
              "      filter: drop-shadow(0px 1px 2px rgba(0, 0, 0, 0.3));\n",
              "      fill: #FFFFFF;\n",
              "    }\n",
              "  </style>\n",
              "\n",
              "    <script>\n",
              "      const buttonEl =\n",
              "        document.querySelector('#df-b6c902b2-ad67-4e97-85a6-df502c6403f8 button.colab-df-convert');\n",
              "      buttonEl.style.display =\n",
              "        google.colab.kernel.accessAllowed ? 'block' : 'none';\n",
              "\n",
              "      async function convertToInteractive(key) {\n",
              "        const element = document.querySelector('#df-b6c902b2-ad67-4e97-85a6-df502c6403f8');\n",
              "        const dataTable =\n",
              "          await google.colab.kernel.invokeFunction('convertToInteractive',\n",
              "                                                    [key], {});\n",
              "        if (!dataTable) return;\n",
              "\n",
              "        const docLinkHtml = 'Like what you see? Visit the ' +\n",
              "          '<a target=\"_blank\" href=https://colab.research.google.com/notebooks/data_table.ipynb>data table notebook</a>'\n",
              "          + ' to learn more about interactive tables.';\n",
              "        element.innerHTML = '';\n",
              "        dataTable['output_type'] = 'display_data';\n",
              "        await google.colab.output.renderOutput(dataTable, element);\n",
              "        const docLink = document.createElement('div');\n",
              "        docLink.innerHTML = docLinkHtml;\n",
              "        element.appendChild(docLink);\n",
              "      }\n",
              "    </script>\n",
              "  </div>\n",
              "\n",
              "\n",
              "<div id=\"df-8e973008-8a31-473a-9a1c-b25580ad68ce\">\n",
              "  <button class=\"colab-df-quickchart\" onclick=\"quickchart('df-8e973008-8a31-473a-9a1c-b25580ad68ce')\"\n",
              "            title=\"Suggest charts.\"\n",
              "            style=\"display:none;\">\n",
              "\n",
              "<svg xmlns=\"http://www.w3.org/2000/svg\" height=\"24px\"viewBox=\"0 0 24 24\"\n",
              "     width=\"24px\">\n",
              "    <g>\n",
              "        <path d=\"M19 3H5c-1.1 0-2 .9-2 2v14c0 1.1.9 2 2 2h14c1.1 0 2-.9 2-2V5c0-1.1-.9-2-2-2zM9 17H7v-7h2v7zm4 0h-2V7h2v10zm4 0h-2v-4h2v4z\"/>\n",
              "    </g>\n",
              "</svg>\n",
              "  </button>\n",
              "\n",
              "<style>\n",
              "  .colab-df-quickchart {\n",
              "    background-color: #E8F0FE;\n",
              "    border: none;\n",
              "    border-radius: 50%;\n",
              "    cursor: pointer;\n",
              "    display: none;\n",
              "    fill: #1967D2;\n",
              "    height: 32px;\n",
              "    padding: 0 0 0 0;\n",
              "    width: 32px;\n",
              "  }\n",
              "\n",
              "  .colab-df-quickchart:hover {\n",
              "    background-color: #E2EBFA;\n",
              "    box-shadow: 0px 1px 2px rgba(60, 64, 67, 0.3), 0px 1px 3px 1px rgba(60, 64, 67, 0.15);\n",
              "    fill: #174EA6;\n",
              "  }\n",
              "\n",
              "  [theme=dark] .colab-df-quickchart {\n",
              "    background-color: #3B4455;\n",
              "    fill: #D2E3FC;\n",
              "  }\n",
              "\n",
              "  [theme=dark] .colab-df-quickchart:hover {\n",
              "    background-color: #434B5C;\n",
              "    box-shadow: 0px 1px 3px 1px rgba(0, 0, 0, 0.15);\n",
              "    filter: drop-shadow(0px 1px 2px rgba(0, 0, 0, 0.3));\n",
              "    fill: #FFFFFF;\n",
              "  }\n",
              "</style>\n",
              "\n",
              "  <script>\n",
              "    async function quickchart(key) {\n",
              "      const charts = await google.colab.kernel.invokeFunction(\n",
              "          'suggestCharts', [key], {});\n",
              "    }\n",
              "    (() => {\n",
              "      let quickchartButtonEl =\n",
              "        document.querySelector('#df-8e973008-8a31-473a-9a1c-b25580ad68ce button');\n",
              "      quickchartButtonEl.style.display =\n",
              "        google.colab.kernel.accessAllowed ? 'block' : 'none';\n",
              "    })();\n",
              "  </script>\n",
              "</div>\n",
              "    </div>\n",
              "  </div>\n"
            ]
          },
          "metadata": {},
          "execution_count": 17
        }
      ]
    },
    {
      "cell_type": "code",
      "source": [
        "X = ['age', 'hypertension', 'heart_disease', 'bmi', 'HbA1c_level', 'blood_glucose_level']\n",
        "y = ['diabetes']\n",
        "\n",
        "X_train = train_df[X]\n",
        "print('X_train, our input variables:')\n",
        "print(X_train.head())\n",
        "print()\n",
        "\n",
        "y_train = train_df[y]\n",
        "print('y_train, our output variable:')\n",
        "print(y_train.head())"
      ],
      "metadata": {
        "colab": {
          "base_uri": "https://localhost:8080/"
        },
        "id": "P6qLKkduso5p",
        "outputId": "5f960470-40fd-4220-8b2f-9638c2bdda64"
      },
      "execution_count": null,
      "outputs": [
        {
          "output_type": "stream",
          "name": "stdout",
          "text": [
            "X_train, our input variables:\n",
            "    age  hypertension  heart_disease    bmi  HbA1c_level  blood_glucose_level\n",
            "0  36.0             0              0  17.06          4.0                  145\n",
            "1  58.0             0              0  37.83          6.1                  159\n",
            "2  43.0             0              0  39.20          5.0                  160\n",
            "3  67.0             1              0  28.39          5.7                  159\n",
            "4   5.0             0              0  27.32          6.0                   80\n",
            "\n",
            "y_train, our output variable:\n",
            "   diabetes\n",
            "0         0\n",
            "1         0\n",
            "2         0\n",
            "3         0\n",
            "4         0\n"
          ]
        }
      ]
    },
    {
      "cell_type": "markdown",
      "source": [
        "Setting up the model by mentioning which columns represent the input features and which column is the output label."
      ],
      "metadata": {
        "id": "4dR3ULs2rsKr"
      }
    },
    {
      "cell_type": "code",
      "source": [
        "from imblearn.over_sampling import ADASYN"
      ],
      "metadata": {
        "id": "hanjSdvDs5sP"
      },
      "execution_count": null,
      "outputs": []
    },
    {
      "cell_type": "markdown",
      "source": [
        "Importing ADASYN"
      ],
      "metadata": {
        "id": "uA-rAB68ruim"
      }
    },
    {
      "cell_type": "code",
      "source": [
        "adasyn = ADASYN(random_state=42)\n",
        "X_adasyn, y_adasyn = adasyn.fit_resample(X_train, y_train)"
      ],
      "metadata": {
        "id": "E-Ev3AMWs64j"
      },
      "execution_count": null,
      "outputs": []
    },
    {
      "cell_type": "code",
      "source": [
        "X_val = val_df[X]\n",
        "y_val = val_df[y]"
      ],
      "metadata": {
        "id": "X8bVtVjts9ZJ"
      },
      "execution_count": null,
      "outputs": []
    },
    {
      "cell_type": "code",
      "source": [
        "scaler = StandardScaler()\n",
        "X_adasyn_scaled = scaler.fit_transform(X_adasyn)\n",
        "X_val_scaled = scaler.transform(X_val)"
      ],
      "metadata": {
        "id": "VTrEuC6JtHD4"
      },
      "execution_count": null,
      "outputs": []
    },
    {
      "cell_type": "markdown",
      "source": [
        "The code uses a StandardScaler to standardize the features of two datasets, X_adasyn and X_val. The fit_transform method scales the training data (X_adasyn), while the transform method scales the validation data (X_val) using the parameters learned from the training data."
      ],
      "metadata": {
        "id": "JzVloCBjsTC6"
      }
    },
    {
      "cell_type": "code",
      "source": [
        "# Convert pandas DataFrames to PyTorch tensors\n",
        "X_adasyn_tensor = torch.tensor(X_adasyn_scaled, dtype=torch.float32)\n",
        "y_adasyn_tensor = torch.tensor(y_adasyn.values, dtype=torch.float32)\n",
        "X_val_tensor = torch.tensor(X_val_scaled, dtype=torch.float32)\n",
        "y_val_tensor = torch.tensor(y_val.values, dtype=torch.float32)"
      ],
      "metadata": {
        "id": "zifR0aGeru3I"
      },
      "execution_count": null,
      "outputs": []
    },
    {
      "cell_type": "markdown",
      "source": [
        "The code converts the standardized datasets (X_adasyn_scaled, y_adasyn, X_val_scaled, y_val) into PyTorch tensors (X_adasyn_tensor, y_adasyn_tensor, X_val_tensor, y_val_tensor) with a specified data type of float32."
      ],
      "metadata": {
        "id": "dyJyhPQTsjOb"
      }
    },
    {
      "cell_type": "code",
      "source": [
        "class DiabetesPredictionModel(nn.Module):\n",
        "    def __init__(self, input_size):\n",
        "        super(DiabetesPredictionModel, self).__init__()\n",
        "        self.conv_stack = nn.Sequential(\n",
        "            nn.Conv1d(1, 32, kernel_size=3, padding=1),\n",
        "            nn.BatchNorm1d(32),\n",
        "            nn.ReLU(),\n",
        "            nn.MaxPool1d(kernel_size=2),\n",
        "            nn.Conv1d(32, 64, kernel_size=3, padding=1),\n",
        "            nn.BatchNorm1d(64),\n",
        "            nn.ReLU(),\n",
        "            nn.MaxPool1d(kernel_size=2),\n",
        "            nn.Flatten()\n",
        "        )\n",
        "\n",
        "        # Calculate the output size of the convolutional layers\n",
        "        with torch.no_grad():\n",
        "            dummy_input = torch.zeros(1, 1, input_size)\n",
        "            conv_output_size = self._get_conv_output_size(dummy_input)\n",
        "\n",
        "        self.linear_stack = nn.Sequential(\n",
        "            nn.Linear(conv_output_size, 128),\n",
        "            nn.ReLU(),\n",
        "            nn.Dropout(0.2),\n",
        "            nn.Linear(128, 64),\n",
        "            nn.ReLU(),\n",
        "            nn.Dropout(0.2),\n",
        "            nn.Linear(64, 32),\n",
        "            nn.ReLU(),\n",
        "            nn.Dropout(0.2),\n",
        "            nn.Linear(32, 1),\n",
        "        )\n",
        "\n",
        "    def _get_conv_output_size(self, x):\n",
        "        x = self.conv_stack(x)\n",
        "        return x.view(x.size(0), -1).size(1)\n",
        "\n",
        "    def forward(self, x):\n",
        "        x = self.conv_stack(x)\n",
        "        logits = self.linear_stack(x)\n",
        "        return logits"
      ],
      "metadata": {
        "id": "R35FrMiarxLU"
      },
      "execution_count": null,
      "outputs": []
    },
    {
      "cell_type": "markdown",
      "source": [
        "The code defines a neural network model (DiabetesPredictionModel) using PyTorch's nn.Module. It consists of convolutional layers followed by batch normalization, ReLU activation, and max pooling. The convolutional layers are then flattened, and the output is passed through fully connected layers with ReLU activation, dropout, and a final linear layer for binary classification. The model is designed for predicting diabetes based on input data with a specified size."
      ],
      "metadata": {
        "id": "2jva1swTt801"
      }
    },
    {
      "cell_type": "code",
      "source": [
        "# Define custom dataset for training and testing\n",
        "class DiabetesDataset(Dataset):\n",
        "    def __init__(self, X, y):\n",
        "        self.X = X\n",
        "        self.y = y\n",
        "\n",
        "    def __getitem__(self, index):\n",
        "        return self.X[index], self.y[index]\n",
        "\n",
        "    def __len__(self):\n",
        "        return len(self.X)"
      ],
      "metadata": {
        "id": "7zqpJz9AtjMZ"
      },
      "execution_count": null,
      "outputs": []
    },
    {
      "cell_type": "markdown",
      "source": [
        "The code creates a PyTorch dataset class (DiabetesDataset) for managing input features (X) and labels (y). It includes methods for accessing individual items and obtaining the dataset's length."
      ],
      "metadata": {
        "id": "W1GZoizPuWgp"
      }
    },
    {
      "cell_type": "code",
      "source": [
        "import os\n",
        "from google.colab import files"
      ],
      "metadata": {
        "id": "WTyh7IxZPR0f"
      },
      "execution_count": null,
      "outputs": []
    },
    {
      "cell_type": "code",
      "source": [
        "os.makedirs('/content/drive/MyDrive/Models', exist_ok=True)"
      ],
      "metadata": {
        "id": "-gGt3bdBPREG"
      },
      "execution_count": null,
      "outputs": []
    },
    {
      "cell_type": "code",
      "source": [
        "# Create data loaders for training and validation\n",
        "adasyn_dataset = DiabetesDataset(X_adasyn_tensor.unsqueeze(1), y_adasyn_tensor)  # Add an extra dimension for input channels\n",
        "val_dataset = DiabetesDataset(X_val_tensor.unsqueeze(1), y_val_tensor)  # Add an extra dimension for input channels\n",
        "adasyn_loader = DataLoader(adasyn_dataset, batch_size=64, shuffle=True)\n",
        "val_loader = DataLoader(val_dataset, batch_size=64)"
      ],
      "metadata": {
        "id": "PmuGxEQ_TAC-"
      },
      "execution_count": null,
      "outputs": []
    },
    {
      "cell_type": "markdown",
      "source": [
        "The code sets up PyTorch datasets (adasyn_dataset and val_dataset) and corresponding data loaders (adasyn_loader and val_loader). The input features are adjusted to include an additional dimension for input channels using unsqueeze(1). The DataLoader is configured with batch sizes and optional shuffling for the training dataset."
      ],
      "metadata": {
        "id": "N4oWyYVSu5ZL"
      }
    },
    {
      "cell_type": "code",
      "source": [
        "from sklearn.metrics import confusion_matrix"
      ],
      "metadata": {
        "id": "ejlGgfq7Vxnm"
      },
      "execution_count": null,
      "outputs": []
    },
    {
      "cell_type": "code",
      "source": [
        "import random\n",
        "\n",
        "max_list_length = 10\n",
        "\n",
        "# Define the run_model_experiment function\n",
        "def run_model_experiment(experiment_number):\n",
        "    # Generate random learning rate, factor, and patience values\n",
        "    lr = random.uniform(1e-5, 1e-2)\n",
        "    hyp1 = random.uniform(0.05, 0.9)\n",
        "    hyp2 = random.randint(1, 10)\n",
        "\n",
        "    # Instantiate the model\n",
        "    input_size = X_adasyn_tensor.shape[1]\n",
        "    model = DiabetesPredictionModel(input_size)\n",
        "\n",
        "    criterion = nn.BCEWithLogitsLoss()\n",
        "    optimizer = optim.AdamW(model.parameters(), lr=lr, weight_decay=0.01)\n",
        "\n",
        "    scheduler = optim.lr_scheduler.ReduceLROnPlateau(optimizer, factor=hyp1, patience=hyp2, verbose=True)\n",
        "\n",
        "    num_epochs = 5\n",
        "    best_val_loss = float('inf')\n",
        "    for epoch in range(num_epochs):\n",
        "        model.train()\n",
        "        train_loss = 0.0\n",
        "        for inputs, targets in adasyn_loader:\n",
        "            optimizer.zero_grad()\n",
        "            outputs = model(inputs)\n",
        "            loss = criterion(outputs.squeeze(), targets.squeeze())\n",
        "            loss.backward()\n",
        "\n",
        "            optimizer.step()\n",
        "            train_loss += loss.item() * inputs.size(0)\n",
        "        train_loss /= len(adasyn_dataset)\n",
        "\n",
        "        model.eval()\n",
        "        val_loss = 0.0\n",
        "        with torch.no_grad():\n",
        "            for inputs, targets in val_loader:\n",
        "                outputs = model(inputs)\n",
        "                loss = criterion(outputs.squeeze(), targets.squeeze())\n",
        "                val_loss += loss.item() * inputs.size(0)\n",
        "        val_loss /= len(val_dataset)\n",
        "\n",
        "        scheduler.step(val_loss)\n",
        "\n",
        "        if val_loss < best_val_loss:\n",
        "            best_val_loss = val_loss\n",
        "            torch.save(model.state_dict(), f'/content/drive/MyDrive/Models/model_{experiment_number}.pt')\n",
        "\n",
        "        print(f\"Epoch {epoch+1}/{num_epochs}, Train Loss: {train_loss:.2f}, Val Loss: {val_loss:.2f}\")\n",
        "\n",
        "    model.load_state_dict(torch.load(f'/content/drive/MyDrive/Models/model_{experiment_number}.pt'))\n",
        "\n",
        "    model.eval()\n",
        "    with torch.no_grad():\n",
        "        y_pred_adasyn = (model(X_adasyn_tensor.unsqueeze(1)) > 0.5).squeeze().numpy()\n",
        "        y_pred_val = (model(X_val_tensor.unsqueeze(1)) > 0.5).squeeze().numpy()\n",
        "\n",
        "    val_accuracy = round(accuracy_score(y_val, y_pred_val) * 100, 1)\n",
        "\n",
        "    # Calculate diabetes prediction accuracy\n",
        "    cm_val = confusion_matrix(y_val, y_pred_val)\n",
        "\n",
        "    diabetes_accuracy_val = round(cm_val[1][1] / (cm_val[1][1] + cm_val[1][0]) * 100, 1)\n",
        "\n",
        "    print(\"Val Accuracy:\", val_accuracy)\n",
        "\n",
        "    print(\"Val Diabetes Accuracy:\", diabetes_accuracy_val)\n",
        "\n",
        "    # Format lr and accuracies for Google Sheets\n",
        "    lr_str = \"{:.2E}\".format(lr)\n",
        "    val_accuracy_str = str(val_accuracy) + '%'\n",
        "    diabetes_accuracy_val_str = str(diabetes_accuracy_val) + '%'\n",
        "\n",
        "    # Add experiment details to Google Sheets\n",
        "    worksheet.append_row([experiment_number, lr_str, hyp1, hyp2, val_accuracy_str, diabetes_accuracy_val_str])\n",
        "\n",
        "adasyn_loader = DataLoader(adasyn_dataset, batch_size=64, shuffle=True)\n",
        "val_loader = DataLoader(val_dataset, batch_size=64)\n",
        "\n",
        "# Run experiments\n",
        "experiment_number = 71\n",
        "for _ in range(max_list_length):\n",
        "    run_model_experiment(experiment_number)\n",
        "    experiment_number += 1\n"
      ],
      "metadata": {
        "colab": {
          "base_uri": "https://localhost:8080/"
        },
        "id": "Vv1FBU1vRNBd",
        "outputId": "e68a4769-a356-447f-c890-5c837ae22455"
      },
      "execution_count": null,
      "outputs": [
        {
          "output_type": "stream",
          "name": "stdout",
          "text": [
            "Epoch 1/5, Train Loss: 0.30, Val Loss: 0.30\n",
            "Epoch 2/5, Train Loss: 0.28, Val Loss: 0.28\n",
            "Epoch 3/5, Train Loss: 0.28, Val Loss: 0.29\n",
            "Epoch 4/5, Train Loss: 0.28, Val Loss: 0.24\n",
            "Epoch 5/5, Train Loss: 0.28, Val Loss: 0.31\n",
            "Val Accuracy: 89.3\n",
            "Val Diabetes Accuracy: 90.9\n",
            "Epoch 1/5, Train Loss: 0.29, Val Loss: 0.24\n",
            "Epoch 2/5, Train Loss: 0.28, Val Loss: 0.24\n",
            "Epoch 3/5, Train Loss: 0.28, Val Loss: 0.29\n",
            "Epoch 00004: reducing learning rate of group 0 to 1.9862e-03.\n",
            "Epoch 4/5, Train Loss: 0.27, Val Loss: 0.28\n",
            "Epoch 5/5, Train Loss: 0.27, Val Loss: 0.28\n",
            "Val Accuracy: 89.4\n",
            "Val Diabetes Accuracy: 86.5\n",
            "Epoch 1/5, Train Loss: 0.30, Val Loss: 0.27\n",
            "Epoch 2/5, Train Loss: 0.29, Val Loss: 0.34\n",
            "Epoch 3/5, Train Loss: 0.28, Val Loss: 0.24\n",
            "Epoch 4/5, Train Loss: 0.28, Val Loss: 0.29\n",
            "Epoch 5/5, Train Loss: 0.28, Val Loss: 0.27\n",
            "Val Accuracy: 87.7\n",
            "Val Diabetes Accuracy: 90.2\n",
            "Epoch 1/5, Train Loss: 0.29, Val Loss: 0.33\n",
            "Epoch 2/5, Train Loss: 0.28, Val Loss: 0.29\n",
            "Epoch 3/5, Train Loss: 0.28, Val Loss: 0.25\n",
            "Epoch 4/5, Train Loss: 0.28, Val Loss: 0.30\n",
            "Epoch 5/5, Train Loss: 0.28, Val Loss: 0.29\n",
            "Val Accuracy: 88.2\n",
            "Val Diabetes Accuracy: 90.2\n",
            "Epoch 1/5, Train Loss: 0.30, Val Loss: 0.27\n",
            "Epoch 2/5, Train Loss: 0.28, Val Loss: 0.28\n",
            "Epoch 3/5, Train Loss: 0.28, Val Loss: 0.31\n",
            "Epoch 4/5, Train Loss: 0.28, Val Loss: 0.25\n",
            "Epoch 5/5, Train Loss: 0.27, Val Loss: 0.26\n",
            "Val Accuracy: 89.5\n",
            "Val Diabetes Accuracy: 87.4\n",
            "Epoch 1/5, Train Loss: 0.29, Val Loss: 0.35\n",
            "Epoch 2/5, Train Loss: 0.28, Val Loss: 0.25\n",
            "Epoch 3/5, Train Loss: 0.28, Val Loss: 0.25\n",
            "Epoch 4/5, Train Loss: 0.28, Val Loss: 0.31\n",
            "Epoch 5/5, Train Loss: 0.28, Val Loss: 0.24\n",
            "Val Accuracy: 90.8\n",
            "Val Diabetes Accuracy: 79.7\n",
            "Epoch 1/5, Train Loss: 0.30, Val Loss: 0.30\n",
            "Epoch 2/5, Train Loss: 0.29, Val Loss: 0.29\n",
            "Epoch 3/5, Train Loss: 0.28, Val Loss: 0.28\n",
            "Epoch 4/5, Train Loss: 0.28, Val Loss: 0.31\n",
            "Epoch 5/5, Train Loss: 0.28, Val Loss: 0.33\n",
            "Val Accuracy: 85.8\n",
            "Val Diabetes Accuracy: 92.5\n",
            "Epoch 1/5, Train Loss: 0.30, Val Loss: 0.30\n",
            "Epoch 2/5, Train Loss: 0.28, Val Loss: 0.30\n",
            "Epoch 3/5, Train Loss: 0.28, Val Loss: 0.30\n",
            "Epoch 4/5, Train Loss: 0.28, Val Loss: 0.28\n",
            "Epoch 5/5, Train Loss: 0.28, Val Loss: 0.29\n",
            "Val Accuracy: 85.2\n",
            "Val Diabetes Accuracy: 94.9\n",
            "Epoch 1/5, Train Loss: 0.29, Val Loss: 0.28\n",
            "Epoch 2/5, Train Loss: 0.28, Val Loss: 0.24\n",
            "Epoch 3/5, Train Loss: 0.27, Val Loss: 0.26\n",
            "Epoch 4/5, Train Loss: 0.27, Val Loss: 0.29\n",
            "Epoch 5/5, Train Loss: 0.27, Val Loss: 0.31\n",
            "Val Accuracy: 88.9\n",
            "Val Diabetes Accuracy: 87.2\n",
            "Epoch 1/5, Train Loss: 0.30, Val Loss: 0.28\n",
            "Epoch 2/5, Train Loss: 0.29, Val Loss: 0.36\n",
            "Epoch 3/5, Train Loss: 0.29, Val Loss: 0.23\n",
            "Epoch 4/5, Train Loss: 0.28, Val Loss: 0.28\n",
            "Epoch 5/5, Train Loss: 0.28, Val Loss: 0.28\n",
            "Val Accuracy: 88.2\n",
            "Val Diabetes Accuracy: 90.7\n"
          ]
        }
      ]
    },
    {
      "cell_type": "markdown",
      "source": [
        "The code defines a function (run_model_experiment) that runs a machine learning experiment with a randomized set of hyperparameters. It trains a diabetes prediction model using PyTorch, monitors validation loss, and saves the best model. The experiments are conducted multiple times, and the results, including accuracy metrics, are printed and stored in the Google Sheet."
      ],
      "metadata": {
        "id": "AtZ_EUDmvUzf"
      }
    },
    {
      "cell_type": "code",
      "source": [
        "# Creating data loaders for training and validation\n",
        "adasyn_dataset = DiabetesDataset(X_adasyn_tensor.unsqueeze(1), y_adasyn_tensor)\n",
        "val_dataset = DiabetesDataset(X_val_tensor.unsqueeze(1), y_val_tensor)\n",
        "adasyn_loader = DataLoader(adasyn_dataset, batch_size=64, shuffle=True)\n",
        "val_loader = DataLoader(val_dataset, batch_size=64)\n",
        "\n",
        "# Instantiating the model\n",
        "input_size = X_adasyn_tensor.shape[1]\n",
        "model = DiabetesPredictionModel(input_size)\n",
        "\n",
        "criterion = nn.BCEWithLogitsLoss()\n",
        "optimizer = optim.AdamW(model.parameters(), lr=0.0001, weight_decay=0.01)\n",
        "\n",
        "scheduler = optim.lr_scheduler.ReduceLROnPlateau(optimizer, factor=0.9, patience=10, verbose=True)"
      ],
      "metadata": {
        "id": "6qlNwHAQk6VQ"
      },
      "execution_count": null,
      "outputs": []
    },
    {
      "cell_type": "markdown",
      "source": [
        "The code prepares data loaders for training and validation using PyTorch. It creates instances of a diabetes prediction model, defines a loss function, sets up an optimizer, and incorporates a learning rate scheduler for training."
      ],
      "metadata": {
        "id": "i7zSfTCcvtDL"
      }
    },
    {
      "cell_type": "code",
      "source": [
        "#Training and testing model\n",
        "num_epochs = 5\n",
        "best_val_loss = float('inf')\n",
        "for epoch in range(num_epochs):\n",
        "    model.train()\n",
        "    train_loss = 0.0\n",
        "    for inputs, targets in adasyn_loader:\n",
        "        optimizer.zero_grad()\n",
        "        outputs = model(inputs)\n",
        "        loss = criterion(outputs.squeeze(), targets.squeeze())\n",
        "        loss.backward()\n",
        "\n",
        "        optimizer.step()\n",
        "        train_loss += loss.item() * inputs.size(0)\n",
        "    train_loss /= len(adasyn_dataset)\n",
        "\n",
        "    model.eval()\n",
        "    val_loss = 0.0\n",
        "    with torch.no_grad():\n",
        "        for inputs, targets in val_loader:\n",
        "            outputs = model(inputs)\n",
        "            loss = criterion(outputs.squeeze(), targets.squeeze())\n",
        "            val_loss += loss.item() * inputs.size(0)\n",
        "    val_loss /= len(val_dataset)\n",
        "\n",
        "    scheduler.step(val_loss)\n",
        "\n",
        "    if val_loss < best_val_loss:\n",
        "        best_val_loss = val_loss\n",
        "        torch.save(model.state_dict(), 'best_model.pt')  # Save the best model\n",
        "\n",
        "    print(f\"Epoch {epoch+1}/{num_epochs}, Train Loss: {train_loss:.4f}, Val Loss: {val_loss:.4f}\")\n",
        "\n",
        "# Loading the best model for predictions\n",
        "model.load_state_dict(torch.load('best_model.pt'))\n"
      ],
      "metadata": {
        "colab": {
          "base_uri": "https://localhost:8080/"
        },
        "id": "OGC8OUVpk9aT",
        "outputId": "5c148478-0d7a-426e-e22b-c1bd42b4e71c"
      },
      "execution_count": null,
      "outputs": [
        {
          "output_type": "stream",
          "name": "stdout",
          "text": [
            "Epoch 1/5, Train Loss: 0.3380, Val Loss: 0.3116\n",
            "Epoch 2/5, Train Loss: 0.2850, Val Loss: 0.2659\n",
            "Epoch 3/5, Train Loss: 0.2738, Val Loss: 0.3047\n",
            "Epoch 4/5, Train Loss: 0.2680, Val Loss: 0.2850\n",
            "Epoch 5/5, Train Loss: 0.2642, Val Loss: 0.2852\n"
          ]
        },
        {
          "output_type": "execute_result",
          "data": {
            "text/plain": [
              "<All keys matched successfully>"
            ]
          },
          "metadata": {},
          "execution_count": 45
        }
      ]
    },
    {
      "cell_type": "markdown",
      "source": [
        "The code trains a diabetes prediction model for a specified number of epochs. It iterates through the training data, updates the model's weights based on the loss, and evaluates the model on the validation data. The best-performing model is saved. After training, the code loads the saved best model for making predictions."
      ],
      "metadata": {
        "id": "MTQqnm5fwDmK"
      }
    },
    {
      "cell_type": "code",
      "source": [
        "model.eval()\n",
        "with torch.no_grad():\n",
        "    y_pred_adasyn = (model(X_adasyn_tensor.unsqueeze(1)) > 0.5).squeeze().numpy()\n",
        "    y_pred_val = (model(X_val_tensor.unsqueeze(1)) > 0.5).squeeze().numpy()\n",
        "\n",
        "adasyn_accuracy = accuracy_score(y_adasyn, y_pred_adasyn)\n",
        "val_accuracy = accuracy_score(y_val, y_pred_val)\n",
        "\n",
        "print(\"ADASYN Accuracy:\", adasyn_accuracy)\n",
        "print(\"Val Accuracy:\", val_accuracy)\n"
      ],
      "metadata": {
        "colab": {
          "base_uri": "https://localhost:8080/"
        },
        "id": "BA6lBpjztqP-",
        "outputId": "03e64b5d-dd17-4d77-b9df-03f812685ffb"
      },
      "execution_count": null,
      "outputs": [
        {
          "output_type": "stream",
          "name": "stdout",
          "text": [
            "ADASYN Accuracy: 0.8711915902047761\n",
            "Val Accuracy: 0.8766\n"
          ]
        }
      ]
    },
    {
      "cell_type": "markdown",
      "source": [
        "The code uses a trained model to predict outcomes for two datasets (ADASYN and validation). It calculates accuracy scores by comparing the model predictions to the actual labels and prints the accuracy for both datasets."
      ],
      "metadata": {
        "id": "y-2Pw2AgwQiT"
      }
    },
    {
      "cell_type": "code",
      "source": [
        "from sklearn.metrics import confusion_matrix\n",
        "\n",
        "cm = confusion_matrix(y_val, y_pred_val)\n",
        "\n",
        "cm_df = pd.DataFrame(cm, index = [i for i in \"01\"], columns = [i for i in \"01\"])\n",
        "\n",
        "plt.figure(figsize=(7,5))\n",
        "sns.heatmap(cm_df, annot=True, cmap='Blues', fmt='g')\n",
        "plt.title('Confusion Matrix')\n",
        "plt.ylabel('Actual Label')\n",
        "plt.xlabel('Predicted Label')\n",
        "plt.show()"
      ],
      "metadata": {
        "colab": {
          "base_uri": "https://localhost:8080/",
          "height": 487
        },
        "id": "PHmOOsNItt3l",
        "outputId": "1967af87-24ce-45b0-bf9f-43b975232d7c"
      },
      "execution_count": null,
      "outputs": [
        {
          "output_type": "display_data",
          "data": {
            "text/plain": [
              "<Figure size 700x500 with 2 Axes>"
            ],
            "image/png": "[encoded data removed]"
          },
          "metadata": {}
        }
      ]
    },
    {
      "cell_type": "markdown",
      "source": [
        "The code computes a confusion matrix using the predicted values (y_pred_val) and actual labels (y_val). It then visualizes the confusion matrix using a heatmap, providing an overview of the model's performance in terms of true positives, true negatives, false positives, and false negatives."
      ],
      "metadata": {
        "id": "HBkOdZ04wf2u"
      }
    },
    {
      "cell_type": "code",
      "source": [
        "import pickle\n",
        "\n",
        "# Save the model to a .h5 file using pickle\n",
        "with open('/content/drive/MyDrive/Data/model.pkl', 'wb') as file:\n",
        "    pickle.dump(DiabetesPredictionModel, file)\n"
      ],
      "metadata": {
        "id": "96F6gtRwwwW6"
      },
      "execution_count": null,
      "outputs": []
    },
    {
      "cell_type": "markdown",
      "source": [
        "The code saves the diabetes prediction model as a serialized file (.pkl) using the pickle library. The serialized model can be later loaded and used for predictions."
      ],
      "metadata": {
        "id": "zPCYenKfw2X7"
      }
    }
  ]
}