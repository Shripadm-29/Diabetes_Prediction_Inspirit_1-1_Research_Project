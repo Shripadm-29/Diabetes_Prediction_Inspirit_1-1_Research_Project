{
  "nbformat": 4,
  "nbformat_minor": 0,
  "metadata": {
    "colab": {
      "provenance": []
    },
    "kernelspec": {
      "name": "python3",
      "display_name": "Python 3"
    },
    "language_info": {
      "name": "python"
    }
  },
  "cells": [
    {
      "cell_type": "code",
      "execution_count": null,
      "metadata": {
        "colab": {
          "base_uri": "https://localhost:8080/"
        },
        "id": "jzzWXpkIa2AC",
        "outputId": "31b30bc3-78ae-478d-8420-0c5016f84a83"
      },
      "outputs": [
        {
          "output_type": "stream",
          "name": "stdout",
          "text": [
            "Mounted at /content/drive\n"
          ]
        }
      ],
      "source": [
        "from google.colab import drive\n",
        "drive.mount('/content/drive')"
      ]
    },
    {
      "cell_type": "code",
      "source": [
        "import pandas as pd\n",
        "import matplotlib.pyplot as plt\n",
        "from pandas.plotting import andrews_curves\n",
        "import seaborn as sns\n",
        "import numpy as np\n",
        "import os\n",
        "from sklearn.metrics import accuracy_score\n",
        "\n",
        "path = '/content/drive/MyDrive/Data/diabetes_prediction_dataset.csv'\n",
        "dataframe = pd.read_csv(path)\n",
        "\n",
        "dataframe['gender'] = dataframe['gender'].replace({'Male': 1, 'Female': 0})\n",
        "dataframe['smoking_history'] = dataframe['smoking_history'].replace({'No Info' : 0 , 'never' : 1 , 'former' : 2 , 'current' : 3 , 'not current' : 4 , 'ever' : 5})\n",
        "\n"
      ],
      "metadata": {
        "id": "Wy9spa_lbCFk"
      },
      "execution_count": null,
      "outputs": []
    },
    {
      "cell_type": "markdown",
      "source": [
        "Importing Libraries to set up the notebook, and getting the dataset ready to be used by the AI model. Replaced categorical values in the 'gender' and 'smoking_history' columns with numerical equivalents, and prepares the data for analysis."
      ],
      "metadata": {
        "id": "Id0aiayvc5D8"
      }
    },
    {
      "cell_type": "code",
      "source": [
        "from sklearn.model_selection import train_test_split\n",
        "\n",
        "# Splitting the dataset into train and test sets\n",
        "train_df, test_df = train_test_split(dataframe, test_size=0.1, random_state=42)\n",
        "\n",
        "# Splitting the test set further into validation and test sets\n",
        "val_df, test_df = train_test_split(test_df, test_size=0.5, random_state=42)\n",
        "\n",
        "# Verify the shape of each split\n",
        "print(\"Train set shape:\", train_df.shape)\n",
        "print(\"Validation set shape:\", val_df.shape)\n",
        "print(\"Test set shape:\", test_df.shape)"
      ],
      "metadata": {
        "colab": {
          "base_uri": "https://localhost:8080/"
        },
        "id": "HYyOeAtfbCox",
        "outputId": "24bb3b2d-0b40-4b2d-94d2-6a6a81b190f8"
      },
      "execution_count": null,
      "outputs": [
        {
          "output_type": "stream",
          "name": "stdout",
          "text": [
            "Train set shape: (90000, 9)\n",
            "Validation set shape: (5000, 9)\n",
            "Test set shape: (5000, 9)\n"
          ]
        }
      ]
    },
    {
      "cell_type": "markdown",
      "source": [
        "\n",
        "The code uses scikit-learn's train_test_split function to divide the dataframe into training, validation, and test sets This is done to prevent the model to memorize the data."
      ],
      "metadata": {
        "id": "u3KWtQ8ldEOs"
      }
    },
    {
      "cell_type": "code",
      "source": [
        "#Just run once\n",
        "#Saving Train/val/test data into google drive.\n",
        "train_df.to_csv('/content/drive/MyDrive/Data/train_data.csv', index=False)\n",
        "val_df.to_csv('/content/drive/MyDrive/Data/val_data.csv', index=False)\n",
        "test_df.to_csv('/content/drive/MyDrive/Data/test_data.csv', index=False)"
      ],
      "metadata": {
        "id": "qTNeKRHlbPI9"
      },
      "execution_count": null,
      "outputs": []
    },
    {
      "cell_type": "markdown",
      "source": [
        "Saving the different datasets into google drive."
      ],
      "metadata": {
        "id": "cms3OKa9dWEn"
      }
    },
    {
      "cell_type": "code",
      "source": [
        "X = ['age', 'hypertension', 'heart_disease', 'bmi', 'HbA1c_level', 'blood_glucose_level']\n",
        "y = ['diabetes']\n",
        "\n",
        "X_train = train_df[X]\n",
        "print('X_train, our input variables:')\n",
        "print(X_train.head())\n",
        "print()\n",
        "\n",
        "y_train = train_df[y]\n",
        "print('y_train, our output variable:')\n",
        "print(y_train.head())\n",
        "\n",
        "\n"
      ],
      "metadata": {
        "colab": {
          "base_uri": "https://localhost:8080/"
        },
        "id": "Y7NvFoztbS0X",
        "outputId": "b28cfd33-7932-4fb9-babe-c426746130fe"
      },
      "execution_count": null,
      "outputs": [
        {
          "output_type": "stream",
          "name": "stdout",
          "text": [
            "X_train, our input variables:\n",
            "        age  hypertension  heart_disease    bmi  HbA1c_level  \\\n",
            "51994  36.0             0              0  17.06          4.0   \n",
            "77540  58.0             0              0  37.83          6.1   \n",
            "16382  43.0             0              0  39.20          5.0   \n",
            "83439  67.0             1              0  28.39          5.7   \n",
            "61618   5.0             0              0  27.32          6.0   \n",
            "\n",
            "       blood_glucose_level  \n",
            "51994                  145  \n",
            "77540                  159  \n",
            "16382                  160  \n",
            "83439                  159  \n",
            "61618                   80  \n",
            "\n",
            "y_train, our output variable:\n",
            "       diabetes\n",
            "51994         0\n",
            "77540         0\n",
            "16382         0\n",
            "83439         0\n",
            "61618         0\n"
          ]
        }
      ]
    },
    {
      "cell_type": "markdown",
      "source": [
        "Setting up the model by mentioning which columns represent the input features and which column is the output label."
      ],
      "metadata": {
        "id": "swH8DvEBdbd8"
      }
    },
    {
      "cell_type": "code",
      "source": [
        "from sklearn.linear_model import LogisticRegression\n",
        "\n",
        "model = LogisticRegression()"
      ],
      "metadata": {
        "id": "suzoV1lHbV_O"
      },
      "execution_count": null,
      "outputs": []
    },
    {
      "cell_type": "markdown",
      "source": [
        "Importing and defining the LogisticRegression model."
      ],
      "metadata": {
        "id": "8Bn2COKwdqyD"
      }
    },
    {
      "cell_type": "code",
      "source": [
        "from imblearn.over_sampling import ADASYN"
      ],
      "metadata": {
        "id": "wtTg4BZybYBg"
      },
      "execution_count": null,
      "outputs": []
    },
    {
      "cell_type": "markdown",
      "source": [
        "Importing ADASYN"
      ],
      "metadata": {
        "id": "otzD2hx0dyrI"
      }
    },
    {
      "cell_type": "code",
      "source": [
        "#ADASYN for data augmentation\n",
        "adasyn = ADASYN(random_state=42)\n",
        "X_adasyn, y_adasyn = adasyn.fit_resample(X_train, y_train)"
      ],
      "metadata": {
        "id": "rTsZ0Ih6bcO2"
      },
      "execution_count": null,
      "outputs": []
    },
    {
      "cell_type": "markdown",
      "source": [
        "Resampling the existing dataset to make sure that the data is evenly balanced."
      ],
      "metadata": {
        "id": "7vQZMYVpeDmH"
      }
    },
    {
      "cell_type": "code",
      "source": [
        "model.fit(X_adasyn, y_adasyn)"
      ],
      "metadata": {
        "colab": {
          "base_uri": "https://localhost:8080/",
          "height": 129
        },
        "id": "6lWxxo7ebpTx",
        "outputId": "2d6cb866-b971-4ff6-f3af-9cd0ad1c042c"
      },
      "execution_count": null,
      "outputs": [
        {
          "output_type": "stream",
          "name": "stderr",
          "text": [
            "/usr/local/lib/python3.10/dist-packages/sklearn/utils/validation.py:1143: DataConversionWarning: A column-vector y was passed when a 1d array was expected. Please change the shape of y to (n_samples, ), for example using ravel().\n",
            "  y = column_or_1d(y, warn=True)\n"
          ]
        },
        {
          "output_type": "execute_result",
          "data": {
            "text/plain": [
              "LogisticRegression()"
            ],
            "text/html": [
              "<style>#sk-container-id-1 {color: black;background-color: white;}#sk-container-id-1 pre{padding: 0;}#sk-container-id-1 div.sk-toggleable {background-color: white;}#sk-container-id-1 label.sk-toggleable__label {cursor: pointer;display: block;width: 100%;margin-bottom: 0;padding: 0.3em;box-sizing: border-box;text-align: center;}#sk-container-id-1 label.sk-toggleable__label-arrow:before {content: \"▸\";float: left;margin-right: 0.25em;color: #696969;}#sk-container-id-1 label.sk-toggleable__label-arrow:hover:before {color: black;}#sk-container-id-1 div.sk-estimator:hover label.sk-toggleable__label-arrow:before {color: black;}#sk-container-id-1 div.sk-toggleable__content {max-height: 0;max-width: 0;overflow: hidden;text-align: left;background-color: #f0f8ff;}#sk-container-id-1 div.sk-toggleable__content pre {margin: 0.2em;color: black;border-radius: 0.25em;background-color: #f0f8ff;}#sk-container-id-1 input.sk-toggleable__control:checked~div.sk-toggleable__content {max-height: 200px;max-width: 100%;overflow: auto;}#sk-container-id-1 input.sk-toggleable__control:checked~label.sk-toggleable__label-arrow:before {content: \"▾\";}#sk-container-id-1 div.sk-estimator input.sk-toggleable__control:checked~label.sk-toggleable__label {background-color: #d4ebff;}#sk-container-id-1 div.sk-label input.sk-toggleable__control:checked~label.sk-toggleable__label {background-color: #d4ebff;}#sk-container-id-1 input.sk-hidden--visually {border: 0;clip: rect(1px 1px 1px 1px);clip: rect(1px, 1px, 1px, 1px);height: 1px;margin: -1px;overflow: hidden;padding: 0;position: absolute;width: 1px;}#sk-container-id-1 div.sk-estimator {font-family: monospace;background-color: #f0f8ff;border: 1px dotted black;border-radius: 0.25em;box-sizing: border-box;margin-bottom: 0.5em;}#sk-container-id-1 div.sk-estimator:hover {background-color: #d4ebff;}#sk-container-id-1 div.sk-parallel-item::after {content: \"\";width: 100%;border-bottom: 1px solid gray;flex-grow: 1;}#sk-container-id-1 div.sk-label:hover label.sk-toggleable__label {background-color: #d4ebff;}#sk-container-id-1 div.sk-serial::before {content: \"\";position: absolute;border-left: 1px solid gray;box-sizing: border-box;top: 0;bottom: 0;left: 50%;z-index: 0;}#sk-container-id-1 div.sk-serial {display: flex;flex-direction: column;align-items: center;background-color: white;padding-right: 0.2em;padding-left: 0.2em;position: relative;}#sk-container-id-1 div.sk-item {position: relative;z-index: 1;}#sk-container-id-1 div.sk-parallel {display: flex;align-items: stretch;justify-content: center;background-color: white;position: relative;}#sk-container-id-1 div.sk-item::before, #sk-container-id-1 div.sk-parallel-item::before {content: \"\";position: absolute;border-left: 1px solid gray;box-sizing: border-box;top: 0;bottom: 0;left: 50%;z-index: -1;}#sk-container-id-1 div.sk-parallel-item {display: flex;flex-direction: column;z-index: 1;position: relative;background-color: white;}#sk-container-id-1 div.sk-parallel-item:first-child::after {align-self: flex-end;width: 50%;}#sk-container-id-1 div.sk-parallel-item:last-child::after {align-self: flex-start;width: 50%;}#sk-container-id-1 div.sk-parallel-item:only-child::after {width: 0;}#sk-container-id-1 div.sk-dashed-wrapped {border: 1px dashed gray;margin: 0 0.4em 0.5em 0.4em;box-sizing: border-box;padding-bottom: 0.4em;background-color: white;}#sk-container-id-1 div.sk-label label {font-family: monospace;font-weight: bold;display: inline-block;line-height: 1.2em;}#sk-container-id-1 div.sk-label-container {text-align: center;}#sk-container-id-1 div.sk-container {/* jupyter's `normalize.less` sets `[hidden] { display: none; }` but bootstrap.min.css set `[hidden] { display: none !important; }` so we also need the `!important` here to be able to override the default hidden behavior on the sphinx rendered scikit-learn.org. See: https://github.com/scikit-learn/scikit-learn/issues/21755 */display: inline-block !important;position: relative;}#sk-container-id-1 div.sk-text-repr-fallback {display: none;}</style><div id=\"sk-container-id-1\" class=\"sk-top-container\"><div class=\"sk-text-repr-fallback\"><pre>LogisticRegression()</pre><b>In a Jupyter environment, please rerun this cell to show the HTML representation or trust the notebook. <br />On GitHub, the HTML representation is unable to render, please try loading this page with nbviewer.org.</b></div><div class=\"sk-container\" hidden><div class=\"sk-item\"><div class=\"sk-estimator sk-toggleable\"><input class=\"sk-toggleable__control sk-hidden--visually\" id=\"sk-estimator-id-1\" type=\"checkbox\" checked><label for=\"sk-estimator-id-1\" class=\"sk-toggleable__label sk-toggleable__label-arrow\">LogisticRegression</label><div class=\"sk-toggleable__content\"><pre>LogisticRegression()</pre></div></div></div></div></div>"
            ]
          },
          "metadata": {},
          "execution_count": 9
        }
      ]
    },
    {
      "cell_type": "markdown",
      "source": [
        "Passing the data into the model."
      ],
      "metadata": {
        "id": "lZDqemCZeG2E"
      }
    },
    {
      "cell_type": "code",
      "source": [
        "X_val = val_df[X]\n",
        "y_val = val_df[y]"
      ],
      "metadata": {
        "id": "SWLBuLPZbvvD"
      },
      "execution_count": null,
      "outputs": []
    },
    {
      "cell_type": "code",
      "source": [
        "y_pred = model.predict(X_val)"
      ],
      "metadata": {
        "id": "ZHeGAv-pbwrT"
      },
      "execution_count": null,
      "outputs": []
    },
    {
      "cell_type": "code",
      "source": [
        "accuracy = accuracy_score(y_val, y_pred)\n",
        "print(accuracy)"
      ],
      "metadata": {
        "colab": {
          "base_uri": "https://localhost:8080/"
        },
        "id": "iwAhvmc5byrP",
        "outputId": "61ab0fe7-35ee-40a7-c40a-dc07c2141968"
      },
      "execution_count": null,
      "outputs": [
        {
          "output_type": "stream",
          "name": "stdout",
          "text": [
            "0.8418\n"
          ]
        }
      ]
    },
    {
      "cell_type": "markdown",
      "source": [
        "The overall accuracy of the Logistic Regression model is approximately around 84%."
      ],
      "metadata": {
        "id": "YZC4oz3IePjP"
      }
    },
    {
      "cell_type": "code",
      "source": [
        "from sklearn.metrics import confusion_matrix"
      ],
      "metadata": {
        "id": "jv-hTmikb1Kf"
      },
      "execution_count": null,
      "outputs": []
    },
    {
      "cell_type": "code",
      "source": [
        "cm = confusion_matrix(y_val, y_pred)"
      ],
      "metadata": {
        "id": "O9zNd7QGb4BC"
      },
      "execution_count": null,
      "outputs": []
    },
    {
      "cell_type": "code",
      "source": [
        "cm_df = pd.DataFrame(cm, index = [i for i in \"01\"], columns = [i for i in \"01\"])"
      ],
      "metadata": {
        "id": "Wp41rE7Kb5-a"
      },
      "execution_count": null,
      "outputs": []
    },
    {
      "cell_type": "code",
      "source": [
        "plt.figure(figsize=(7,5))\n",
        "sns.heatmap(cm_df, annot=True, cmap='Blues', fmt='g')\n",
        "plt.title('Confusion Matrix (ADASYN)')\n",
        "plt.ylabel('Actual Label')\n",
        "plt.xlabel('Predicted Label')\n",
        "plt.show()"
      ],
      "metadata": {
        "colab": {
          "base_uri": "https://localhost:8080/",
          "height": 487
        },
        "id": "BMkiWw6_cEMk",
        "outputId": "fd100ee7-c80f-4658-a125-c85ae37b2d54"
      },
      "execution_count": null,
      "outputs": [
        {
          "output_type": "display_data",
          "data": {
            "text/plain": [
              "<Figure size 700x500 with 2 Axes>"
            ],
            "image/png": "[encoded data removed]"
          },
          "metadata": {}
        }
      ]
    },
    {
      "cell_type": "markdown",
      "source": [
        "The accuracy for predicting the diabetes label is currently 93.5% with the implementation of ASASYN.\n",
        "\n",
        "(401/429) * 100 = 93.5%"
      ],
      "metadata": {
        "id": "KJryAae5cYcI"
      }
    }
  ]
}